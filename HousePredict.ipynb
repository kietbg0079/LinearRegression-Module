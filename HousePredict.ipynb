{
  "nbformat": 4,
  "nbformat_minor": 0,
  "metadata": {
    "colab": {
      "name": "HousePredict",
      "provenance": [],
      "collapsed_sections": [],
      "include_colab_link": true
    },
    "kernelspec": {
      "display_name": "Python 3",
      "name": "python3"
    },
    "language_info": {
      "name": "python"
    }
  },
  "cells": [
    {
      "cell_type": "markdown",
      "metadata": {
        "id": "view-in-github",
        "colab_type": "text"
      },
      "source": [
        "<a href=\"https://colab.research.google.com/github/kietbg0079/LinearRegression-Module/blob/main/HousePredict.ipynb\" target=\"_parent\"><img src=\"https://colab.research.google.com/assets/colab-badge.svg\" alt=\"Open In Colab\"/></a>"
      ]
    },
    {
      "cell_type": "markdown",
      "metadata": {
        "id": "gw45mjCMmng2"
      },
      "source": [
        "#Prepare Data"
      ]
    },
    {
      "cell_type": "code",
      "metadata": {
        "id": "Kb2bpNQ618za"
      },
      "source": [
        "import zipfile\n",
        "import os\n",
        "import numpy as np\n",
        "import matplotlib.pyplot as plt\n",
        "import pandas as pd\n",
        "import seaborn as sns\n"
      ],
      "execution_count": 1,
      "outputs": []
    },
    {
      "cell_type": "code",
      "metadata": {
        "id": "zhCkdX-i2Btw",
        "colab": {
          "base_uri": "https://localhost:8080/"
        },
        "outputId": "b6a3c746-1850-4033-da71-c9d7164db2ef"
      },
      "source": [
        "!git clone https://github.com/Despair1525/LinearRegression-Module.git"
      ],
      "execution_count": 2,
      "outputs": [
        {
          "output_type": "stream",
          "name": "stdout",
          "text": [
            "Cloning into 'LinearRegression-Module'...\n",
            "remote: Enumerating objects: 21, done.\u001b[K\n",
            "remote: Counting objects: 100% (21/21), done.\u001b[K\n",
            "remote: Compressing objects: 100% (20/20), done.\u001b[K\n",
            "remote: Total 21 (delta 5), reused 0 (delta 0), pack-reused 0\u001b[K\n",
            "Unpacking objects: 100% (21/21), done.\n"
          ]
        }
      ]
    },
    {
      "cell_type": "code",
      "metadata": {
        "id": "kikae6hz2Iad"
      },
      "source": [
        "df = pd.read_csv('/content/LinearRegression-Module/HousePriceinVN - HousePrice2.csv')"
      ],
      "execution_count": 3,
      "outputs": []
    },
    {
      "cell_type": "code",
      "metadata": {
        "colab": {
          "base_uri": "https://localhost:8080/"
        },
        "id": "s_WYavEW3gKc",
        "outputId": "2dbcde34-573b-4e1a-aa27-dadcb1efb73b"
      },
      "source": [
        "df.columns"
      ],
      "execution_count": 4,
      "outputs": [
        {
          "output_type": "execute_result",
          "data": {
            "text/plain": [
              "Index(['Date', 'địa chỉ', 'mặt tiền', 'đường vào', 'số tầng', 'số phòng  ngủ',\n",
              "       'số phòng toilet', 'm^2', 'price'],\n",
              "      dtype='object')"
            ]
          },
          "metadata": {},
          "execution_count": 4
        }
      ]
    },
    {
      "cell_type": "code",
      "metadata": {
        "id": "8ZvZhgFj2QEZ"
      },
      "source": [
        "df['Date'] = pd.to_datetime(df.Date)"
      ],
      "execution_count": 5,
      "outputs": []
    },
    {
      "cell_type": "code",
      "metadata": {
        "colab": {
          "base_uri": "https://localhost:8080/",
          "height": 417
        },
        "id": "YopkuLDb4WC9",
        "outputId": "d2d32062-258d-42c0-945a-f8f6d135392d"
      },
      "source": [
        "df.sort_values(by=['Date'])"
      ],
      "execution_count": 6,
      "outputs": [
        {
          "output_type": "execute_result",
          "data": {
            "text/html": [
              "<div>\n",
              "<style scoped>\n",
              "    .dataframe tbody tr th:only-of-type {\n",
              "        vertical-align: middle;\n",
              "    }\n",
              "\n",
              "    .dataframe tbody tr th {\n",
              "        vertical-align: top;\n",
              "    }\n",
              "\n",
              "    .dataframe thead th {\n",
              "        text-align: right;\n",
              "    }\n",
              "</style>\n",
              "<table border=\"1\" class=\"dataframe\">\n",
              "  <thead>\n",
              "    <tr style=\"text-align: right;\">\n",
              "      <th></th>\n",
              "      <th>Date</th>\n",
              "      <th>địa chỉ</th>\n",
              "      <th>mặt tiền</th>\n",
              "      <th>đường vào</th>\n",
              "      <th>số tầng</th>\n",
              "      <th>số phòng  ngủ</th>\n",
              "      <th>số phòng toilet</th>\n",
              "      <th>m^2</th>\n",
              "      <th>price</th>\n",
              "    </tr>\n",
              "  </thead>\n",
              "  <tbody>\n",
              "    <tr>\n",
              "      <th>1037</th>\n",
              "      <td>2021-01-10</td>\n",
              "      <td>Đường Hòa Bình, Phường Yên Nghĩa, Hà Đông, Hà Nội</td>\n",
              "      <td>3.5</td>\n",
              "      <td>3.0</td>\n",
              "      <td>4.0</td>\n",
              "      <td>3.0</td>\n",
              "      <td>4.0</td>\n",
              "      <td>35.0</td>\n",
              "      <td>44.3 triệu/m²</td>\n",
              "    </tr>\n",
              "    <tr>\n",
              "      <th>1041</th>\n",
              "      <td>2021-01-10</td>\n",
              "      <td>34, Đường An Dương Vương, Phúc Yên, Vĩnh Phúc</td>\n",
              "      <td>5.0</td>\n",
              "      <td>20.0</td>\n",
              "      <td>3.0</td>\n",
              "      <td>4.0</td>\n",
              "      <td>3.0</td>\n",
              "      <td>53.0</td>\n",
              "      <td>112.3 triệu/m²</td>\n",
              "    </tr>\n",
              "    <tr>\n",
              "      <th>3076</th>\n",
              "      <td>2021-01-10</td>\n",
              "      <td>Đường Liên Phường, Phường Phú Hữu, Quận 9, Hồ ...</td>\n",
              "      <td>NaN</td>\n",
              "      <td>NaN</td>\n",
              "      <td>3.0</td>\n",
              "      <td>4.0</td>\n",
              "      <td>5.0</td>\n",
              "      <td>84.0</td>\n",
              "      <td>148.8 triệu/m²</td>\n",
              "    </tr>\n",
              "    <tr>\n",
              "      <th>1042</th>\n",
              "      <td>2021-01-10</td>\n",
              "      <td>Đường Nguyễn Văn Cừ, Phường Bồ Đề, Long Biên, ...</td>\n",
              "      <td>4.0</td>\n",
              "      <td>NaN</td>\n",
              "      <td>5.0</td>\n",
              "      <td>3.0</td>\n",
              "      <td>4.0</td>\n",
              "      <td>42.0</td>\n",
              "      <td>92.6 triệu/m²</td>\n",
              "    </tr>\n",
              "    <tr>\n",
              "      <th>1043</th>\n",
              "      <td>2021-01-10</td>\n",
              "      <td>82, Đường Yên Lãng, Phường Láng Hạ, Đống Đa...</td>\n",
              "      <td>9.0</td>\n",
              "      <td>NaN</td>\n",
              "      <td>5.0</td>\n",
              "      <td>3.0</td>\n",
              "      <td>5.0</td>\n",
              "      <td>51.0</td>\n",
              "      <td>152.9 triệu/m²</td>\n",
              "    </tr>\n",
              "    <tr>\n",
              "      <th>...</th>\n",
              "      <td>...</td>\n",
              "      <td>...</td>\n",
              "      <td>...</td>\n",
              "      <td>...</td>\n",
              "      <td>...</td>\n",
              "      <td>...</td>\n",
              "      <td>...</td>\n",
              "      <td>...</td>\n",
              "      <td>...</td>\n",
              "    </tr>\n",
              "    <tr>\n",
              "      <th>1958</th>\n",
              "      <td>2021-10-10</td>\n",
              "      <td>Đường Mễ Trì Hạ, Phường Mễ Trì, Nam Từ Liêm, H...</td>\n",
              "      <td>4.0</td>\n",
              "      <td>3.0</td>\n",
              "      <td>5.0</td>\n",
              "      <td>6.0</td>\n",
              "      <td>5.0</td>\n",
              "      <td>45.0</td>\n",
              "      <td>93.3 triệu/m²</td>\n",
              "    </tr>\n",
              "    <tr>\n",
              "      <th>1249</th>\n",
              "      <td>2021-10-10</td>\n",
              "      <td>Đường Lê Quang Đạo, Nam Từ Liêm, Hà Nội.</td>\n",
              "      <td>4.0</td>\n",
              "      <td>3.0</td>\n",
              "      <td>4.0</td>\n",
              "      <td>2.0</td>\n",
              "      <td>4.0</td>\n",
              "      <td>32.0</td>\n",
              "      <td>106.2 triệu/m²</td>\n",
              "    </tr>\n",
              "    <tr>\n",
              "      <th>2819</th>\n",
              "      <td>2021-10-10</td>\n",
              "      <td>Đường Yên Xá, Xã Tân Triều, Thanh Trì, Hà Nội</td>\n",
              "      <td>4.0</td>\n",
              "      <td>4.0</td>\n",
              "      <td>7.0</td>\n",
              "      <td>18.0</td>\n",
              "      <td>18.0</td>\n",
              "      <td>73.0</td>\n",
              "      <td>121.9 triệu/m²</td>\n",
              "    </tr>\n",
              "    <tr>\n",
              "      <th>2818</th>\n",
              "      <td>2021-10-10</td>\n",
              "      <td>đường Trung Văn, Phường Trung Văn, Nam Từ Liêm...</td>\n",
              "      <td>6.3</td>\n",
              "      <td>2.5</td>\n",
              "      <td>6.0</td>\n",
              "      <td>14.0</td>\n",
              "      <td>14.0</td>\n",
              "      <td>50.0</td>\n",
              "      <td>158 triệu/m²</td>\n",
              "    </tr>\n",
              "    <tr>\n",
              "      <th>1484</th>\n",
              "      <td>2021-11-09</td>\n",
              "      <td>198/78 Đường Số 3, Phường 9, Gò Vấp, Hồ Chí Minh</td>\n",
              "      <td>5.0</td>\n",
              "      <td>6.0</td>\n",
              "      <td>4.0</td>\n",
              "      <td>22.0</td>\n",
              "      <td>22.0</td>\n",
              "      <td>110.0</td>\n",
              "      <td>86.4 triệu/m²</td>\n",
              "    </tr>\n",
              "  </tbody>\n",
              "</table>\n",
              "<p>3368 rows × 9 columns</p>\n",
              "</div>"
            ],
            "text/plain": [
              "           Date  ...           price\n",
              "1037 2021-01-10  ...   44.3 triệu/m²\n",
              "1041 2021-01-10  ...  112.3 triệu/m²\n",
              "3076 2021-01-10  ...  148.8 triệu/m²\n",
              "1042 2021-01-10  ...   92.6 triệu/m²\n",
              "1043 2021-01-10  ...  152.9 triệu/m²\n",
              "...         ...  ...             ...\n",
              "1958 2021-10-10  ...   93.3 triệu/m²\n",
              "1249 2021-10-10  ...  106.2 triệu/m²\n",
              "2819 2021-10-10  ...  121.9 triệu/m²\n",
              "2818 2021-10-10  ...    158 triệu/m²\n",
              "1484 2021-11-09  ...   86.4 triệu/m²\n",
              "\n",
              "[3368 rows x 9 columns]"
            ]
          },
          "metadata": {},
          "execution_count": 6
        }
      ]
    },
    {
      "cell_type": "code",
      "metadata": {
        "colab": {
          "base_uri": "https://localhost:8080/"
        },
        "id": "jCp6nJx34XgN",
        "outputId": "628917b9-bc10-43de-b816-2cb3f3a50dcb"
      },
      "source": [
        "# loại bỏ đi data dư thừa\n",
        "df=df.dropna()\n",
        "df=df.reset_index()\n",
        "df.describe"
      ],
      "execution_count": 7,
      "outputs": [
        {
          "output_type": "execute_result",
          "data": {
            "text/plain": [
              "<bound method NDFrame.describe of       index       Date  ...    m^2           price\n",
              "0         3 2021-09-10  ...   67.5  214.8 triệu/m²\n",
              "1         4 2021-09-10  ...   75.0   54.7 triệu/m²\n",
              "2         6 2021-08-10  ...  117.0   51.3 triệu/m²\n",
              "3         8 2021-08-10  ...  135.0   74.1 triệu/m²\n",
              "4        10 2021-08-10  ...   34.0   79.4 triệu/m²\n",
              "...     ...        ...  ...    ...             ...\n",
              "1914   3356 2021-09-10  ...   47.0   63.4 triệu/m²\n",
              "1915   3359 2021-09-10  ...   42.0  114.3 triệu/m²\n",
              "1916   3361 2021-09-10  ...   32.0   83.1 triệu/m²\n",
              "1917   3362 2021-09-10  ...   68.0   69.1 triệu/m²\n",
              "1918   3363 2021-09-10  ...   90.0  122.2 triệu/m²\n",
              "\n",
              "[1919 rows x 10 columns]>"
            ]
          },
          "metadata": {},
          "execution_count": 7
        }
      ]
    },
    {
      "cell_type": "code",
      "metadata": {
        "colab": {
          "base_uri": "https://localhost:8080/",
          "height": 652
        },
        "id": "aFfW3hn-5y-O",
        "outputId": "25e4a816-262f-474c-f04e-957c8aab00f6"
      },
      "source": [
        "import re\n",
        "\n",
        "# format lại cột Price \n",
        "for i in range(len(df)):\n",
        "  price = df['price'][i]\n",
        "  if price.find('triệu') != -1:\n",
        "    num = re.findall(r\"[-+]?\\d*\\.\\d+|\\d+\", price)[0]\n",
        "    df['price'][i] =num\n",
        "  elif price.find('tỷ') != -1:\n",
        "    num = float(re.findall(r\"[-+]?\\d*\\.\\d+|\\d+\", price)[0])\n",
        "    num = (num*(10**9) / (df['m^2'][i])) \n",
        "    num /= (10**6)\n",
        "    num=round(num,2)\n",
        "    df['price'][i] = str(num)\n",
        "  elif price.find('nghìn'):\n",
        "    num = float(re.findall(r\"[-+]?\\d*\\.\\d+|\\d+\", price)[0])\n",
        "    num = (num*(10**3))\n",
        "    num /= (10**6)\n",
        "    num=round(num,2)\n",
        "    df['price'][i] = str(num)\n",
        "df"
      ],
      "execution_count": 8,
      "outputs": [
        {
          "output_type": "stream",
          "name": "stderr",
          "text": [
            "/usr/local/lib/python3.7/dist-packages/ipykernel_launcher.py:8: SettingWithCopyWarning: \n",
            "A value is trying to be set on a copy of a slice from a DataFrame\n",
            "\n",
            "See the caveats in the documentation: https://pandas.pydata.org/pandas-docs/stable/user_guide/indexing.html#returning-a-view-versus-a-copy\n",
            "  \n",
            "/usr/local/lib/python3.7/dist-packages/ipykernel_launcher.py:14: SettingWithCopyWarning: \n",
            "A value is trying to be set on a copy of a slice from a DataFrame\n",
            "\n",
            "See the caveats in the documentation: https://pandas.pydata.org/pandas-docs/stable/user_guide/indexing.html#returning-a-view-versus-a-copy\n",
            "  \n",
            "/usr/local/lib/python3.7/dist-packages/ipykernel_launcher.py:20: SettingWithCopyWarning: \n",
            "A value is trying to be set on a copy of a slice from a DataFrame\n",
            "\n",
            "See the caveats in the documentation: https://pandas.pydata.org/pandas-docs/stable/user_guide/indexing.html#returning-a-view-versus-a-copy\n"
          ]
        },
        {
          "output_type": "execute_result",
          "data": {
            "text/html": [
              "<div>\n",
              "<style scoped>\n",
              "    .dataframe tbody tr th:only-of-type {\n",
              "        vertical-align: middle;\n",
              "    }\n",
              "\n",
              "    .dataframe tbody tr th {\n",
              "        vertical-align: top;\n",
              "    }\n",
              "\n",
              "    .dataframe thead th {\n",
              "        text-align: right;\n",
              "    }\n",
              "</style>\n",
              "<table border=\"1\" class=\"dataframe\">\n",
              "  <thead>\n",
              "    <tr style=\"text-align: right;\">\n",
              "      <th></th>\n",
              "      <th>index</th>\n",
              "      <th>Date</th>\n",
              "      <th>địa chỉ</th>\n",
              "      <th>mặt tiền</th>\n",
              "      <th>đường vào</th>\n",
              "      <th>số tầng</th>\n",
              "      <th>số phòng  ngủ</th>\n",
              "      <th>số phòng toilet</th>\n",
              "      <th>m^2</th>\n",
              "      <th>price</th>\n",
              "    </tr>\n",
              "  </thead>\n",
              "  <tbody>\n",
              "    <tr>\n",
              "      <th>0</th>\n",
              "      <td>3</td>\n",
              "      <td>2021-09-10</td>\n",
              "      <td>Dự án Vinhomes Ocean Park Gia Lâm, Đường Ngọc ...</td>\n",
              "      <td>5.0</td>\n",
              "      <td>40.0</td>\n",
              "      <td>5.0</td>\n",
              "      <td>5.0</td>\n",
              "      <td>5.0</td>\n",
              "      <td>67.5</td>\n",
              "      <td>214.8</td>\n",
              "    </tr>\n",
              "    <tr>\n",
              "      <th>1</th>\n",
              "      <td>4</td>\n",
              "      <td>2021-09-10</td>\n",
              "      <td>Dự án Wyndham Thanh Thủy, Đường Tỉnh Lộ 317, X...</td>\n",
              "      <td>5.0</td>\n",
              "      <td>24.0</td>\n",
              "      <td>4.0</td>\n",
              "      <td>3.0</td>\n",
              "      <td>4.0</td>\n",
              "      <td>75.0</td>\n",
              "      <td>54.7</td>\n",
              "    </tr>\n",
              "    <tr>\n",
              "      <th>2</th>\n",
              "      <td>6</td>\n",
              "      <td>2021-08-10</td>\n",
              "      <td>Dự án Izumi City, Biên Hòa, Đồng Nai</td>\n",
              "      <td>8.0</td>\n",
              "      <td>60.0</td>\n",
              "      <td>3.0</td>\n",
              "      <td>4.0</td>\n",
              "      <td>4.0</td>\n",
              "      <td>117.0</td>\n",
              "      <td>51.3</td>\n",
              "    </tr>\n",
              "    <tr>\n",
              "      <th>3</th>\n",
              "      <td>8</td>\n",
              "      <td>2021-08-10</td>\n",
              "      <td>Dự án Vinhomes Ocean Park Gia Lâm, Gia Lâm, Hà...</td>\n",
              "      <td>6.0</td>\n",
              "      <td>52.0</td>\n",
              "      <td>4.0</td>\n",
              "      <td>3.0</td>\n",
              "      <td>3.0</td>\n",
              "      <td>135.0</td>\n",
              "      <td>74.1</td>\n",
              "    </tr>\n",
              "    <tr>\n",
              "      <th>4</th>\n",
              "      <td>10</td>\n",
              "      <td>2021-08-10</td>\n",
              "      <td>Ngõ 1 ngách 22 số 28, Đường Bùi Xương Trạch, P...</td>\n",
              "      <td>3.5</td>\n",
              "      <td>2.0</td>\n",
              "      <td>3.0</td>\n",
              "      <td>3.0</td>\n",
              "      <td>2.0</td>\n",
              "      <td>34.0</td>\n",
              "      <td>79.4</td>\n",
              "    </tr>\n",
              "    <tr>\n",
              "      <th>...</th>\n",
              "      <td>...</td>\n",
              "      <td>...</td>\n",
              "      <td>...</td>\n",
              "      <td>...</td>\n",
              "      <td>...</td>\n",
              "      <td>...</td>\n",
              "      <td>...</td>\n",
              "      <td>...</td>\n",
              "      <td>...</td>\n",
              "      <td>...</td>\n",
              "    </tr>\n",
              "    <tr>\n",
              "      <th>1914</th>\n",
              "      <td>3356</td>\n",
              "      <td>2021-09-10</td>\n",
              "      <td>Đường Định Công Thượng, Phường Định Công, Hoàn...</td>\n",
              "      <td>4.0</td>\n",
              "      <td>3.0</td>\n",
              "      <td>4.0</td>\n",
              "      <td>4.0</td>\n",
              "      <td>3.0</td>\n",
              "      <td>47.0</td>\n",
              "      <td>63.4</td>\n",
              "    </tr>\n",
              "    <tr>\n",
              "      <th>1915</th>\n",
              "      <td>3359</td>\n",
              "      <td>2021-09-10</td>\n",
              "      <td>Phố Khúc Thừa Dụ, Phường Dịch Vọng, Cầu Giấy, ...</td>\n",
              "      <td>3.5</td>\n",
              "      <td>3.2</td>\n",
              "      <td>5.0</td>\n",
              "      <td>5.0</td>\n",
              "      <td>4.0</td>\n",
              "      <td>42.0</td>\n",
              "      <td>114.3</td>\n",
              "    </tr>\n",
              "    <tr>\n",
              "      <th>1916</th>\n",
              "      <td>3361</td>\n",
              "      <td>2021-09-10</td>\n",
              "      <td>Đường Hà Trì 2, Phường Hà Cầu, Hà Đông, Hà Nội</td>\n",
              "      <td>3.9</td>\n",
              "      <td>2.5</td>\n",
              "      <td>5.0</td>\n",
              "      <td>3.0</td>\n",
              "      <td>3.0</td>\n",
              "      <td>32.0</td>\n",
              "      <td>83.1</td>\n",
              "    </tr>\n",
              "    <tr>\n",
              "      <th>1917</th>\n",
              "      <td>3362</td>\n",
              "      <td>2021-09-10</td>\n",
              "      <td>Đường Thạnh Lộc 29, Phường Thạnh Lộc, Quận 12,...</td>\n",
              "      <td>4.0</td>\n",
              "      <td>8.0</td>\n",
              "      <td>4.0</td>\n",
              "      <td>4.0</td>\n",
              "      <td>5.0</td>\n",
              "      <td>68.0</td>\n",
              "      <td>69.1</td>\n",
              "    </tr>\n",
              "    <tr>\n",
              "      <th>1918</th>\n",
              "      <td>3363</td>\n",
              "      <td>2021-09-10</td>\n",
              "      <td>Dự án Vinhomes Ocean Park Gia Lâm, Huyện Gia L...</td>\n",
              "      <td>5.0</td>\n",
              "      <td>30.0</td>\n",
              "      <td>4.0</td>\n",
              "      <td>4.0</td>\n",
              "      <td>3.0</td>\n",
              "      <td>90.0</td>\n",
              "      <td>122.2</td>\n",
              "    </tr>\n",
              "  </tbody>\n",
              "</table>\n",
              "<p>1919 rows × 10 columns</p>\n",
              "</div>"
            ],
            "text/plain": [
              "      index       Date  ...    m^2  price\n",
              "0         3 2021-09-10  ...   67.5  214.8\n",
              "1         4 2021-09-10  ...   75.0   54.7\n",
              "2         6 2021-08-10  ...  117.0   51.3\n",
              "3         8 2021-08-10  ...  135.0   74.1\n",
              "4        10 2021-08-10  ...   34.0   79.4\n",
              "...     ...        ...  ...    ...    ...\n",
              "1914   3356 2021-09-10  ...   47.0   63.4\n",
              "1915   3359 2021-09-10  ...   42.0  114.3\n",
              "1916   3361 2021-09-10  ...   32.0   83.1\n",
              "1917   3362 2021-09-10  ...   68.0   69.1\n",
              "1918   3363 2021-09-10  ...   90.0  122.2\n",
              "\n",
              "[1919 rows x 10 columns]"
            ]
          },
          "metadata": {},
          "execution_count": 8
        }
      ]
    },
    {
      "cell_type": "code",
      "metadata": {
        "id": "RhUqhT8-BJci"
      },
      "source": [
        "\n",
        "df['price']=df['price'].astype('float')"
      ],
      "execution_count": 9,
      "outputs": []
    },
    {
      "cell_type": "code",
      "metadata": {
        "id": "scDw_HVhK-dR"
      },
      "source": [
        "df2=pd.read_csv('/content/LinearRegression-Module/listCity - Sheet1.csv')\n",
        "listCity = df2['Thành phố'].tolist()"
      ],
      "execution_count": 10,
      "outputs": []
    },
    {
      "cell_type": "code",
      "metadata": {
        "colab": {
          "base_uri": "https://localhost:8080/"
        },
        "id": "KFKkp2h8LVk0",
        "outputId": "c8b06ab0-5a74-4ee4-b8a8-1800daee7f55"
      },
      "source": [
        "print(listCity)"
      ],
      "execution_count": 11,
      "outputs": [
        {
          "output_type": "stream",
          "name": "stdout",
          "text": [
            "['Hà Nội', 'Hồ Chí Minh', 'hải Phòng', 'Cần thơ', 'Đà Nẵng ', 'Bà Rịa', 'Bạc Liêu', 'Bảo Lộc', 'Bắc Giang', 'Bắc Kạn', 'Bắc Ninh', 'Bến Tre', 'Biên Hòa', 'Buôn\\nMa Thuột', 'Cà Mau', 'Cam Ranh', 'Cao Bằng', 'Cao Lãnh', 'Cẩm Phả', 'Châu Đốc', 'Đà Lạt', 'Điện\\nBiên Phủ', 'Đông Hà', 'Đồng Hới', 'Đồng Xoài', 'Hà Giang', 'Hạ Long', 'Hà Tiên', 'Hà Tĩnh', 'Hải Dương', 'Hòa Bình', 'Hội An', 'Huế', 'Hưng Yên', 'Kon Tum', 'Lai Châu', 'Lạng Sơn', 'Lào Cai', 'Long Xuyên', 'Móng Cái', 'Mỹ Tho', 'Nam Định', 'Nha Trang', 'Ninh Bình', 'Phan Rang - Tháp Chàm', 'Phan Thiết', 'Phủ Lý', 'Phúc Yên', 'Pleiku', 'Quảng Ngãi', 'Quy Nhơn', 'Rạch Giá', 'Sa Đéc', 'Sầm Sơn', 'Sóc Trăng', 'Sơn La', 'Sông Công', 'Tam Điệp', 'Tam Kỳ', 'Tân An', 'Tây Ninh', 'Thái Bình', 'Thái Nguyên', 'Thanh Hóa', 'Thủ Dầu Một', 'Trà Vinh', 'Tuy Hòa', 'Tuyên Quang', 'Uông Bí', 'Vị Thanh', 'Việt Trì', 'Vinh', 'Vĩnh Long', 'Vĩnh Yên', 'Vũng Tàu', 'Yên Bái', 'Thuận An', 'Dĩ An', 'Phú Quốc', 'Ngã Bảy', 'Long Khánh', 'Hồng Ngự', 'Gia Nghĩa']\n"
          ]
        }
      ]
    },
    {
      "cell_type": "code",
      "metadata": {
        "id": "Tvg2PW04LfY6"
      },
      "source": [
        "def checkLocate(listCity,locate): \n",
        "  check = 0\n",
        "  for city in listCity:\n",
        "    if city.lower() in locate.strip().lower():\n",
        "      return city\n"
      ],
      "execution_count": 12,
      "outputs": []
    },
    {
      "cell_type": "code",
      "metadata": {
        "colab": {
          "base_uri": "https://localhost:8080/"
        },
        "id": "Y1VCjwNdCUkl",
        "outputId": "ebb19341-2089-490b-a974-549e18310f48"
      },
      "source": [
        "count=0\n",
        "for i in range(len(df)):\n",
        "  locate = df['địa chỉ'][i]\n",
        "  city = checkLocate(listCity,locate)\n",
        "  if city is not 0:\n",
        "    try:\n",
        "      df['city'][i] = city\n",
        "    except:\n",
        "      df['city']=\"\"\n",
        "      df['city'][i] = city\n",
        "\n",
        "  "
      ],
      "execution_count": 13,
      "outputs": [
        {
          "output_type": "stream",
          "name": "stderr",
          "text": [
            "/usr/local/lib/python3.7/dist-packages/ipykernel_launcher.py:10: SettingWithCopyWarning: \n",
            "A value is trying to be set on a copy of a slice from a DataFrame\n",
            "\n",
            "See the caveats in the documentation: https://pandas.pydata.org/pandas-docs/stable/user_guide/indexing.html#returning-a-view-versus-a-copy\n",
            "  # Remove the CWD from sys.path while we load stuff.\n",
            "/usr/local/lib/python3.7/dist-packages/ipykernel_launcher.py:7: SettingWithCopyWarning: \n",
            "A value is trying to be set on a copy of a slice from a DataFrame\n",
            "\n",
            "See the caveats in the documentation: https://pandas.pydata.org/pandas-docs/stable/user_guide/indexing.html#returning-a-view-versus-a-copy\n",
            "  import sys\n"
          ]
        }
      ]
    },
    {
      "cell_type": "code",
      "metadata": {
        "id": "5Aj-OvgxNygH"
      },
      "source": [
        "df=df.dropna()\n",
        "df=df.reset_index()"
      ],
      "execution_count": 14,
      "outputs": []
    },
    {
      "cell_type": "code",
      "metadata": {
        "id": "xa2ztX-SOQa-",
        "colab": {
          "base_uri": "https://localhost:8080/",
          "height": 904
        },
        "outputId": "9513a912-1b07-47f8-f806-bdcbe56829ac"
      },
      "source": [
        "city_count = df.groupby('city').size()\n",
        "city_count.plot(kind='bar')\n",
        "city_count"
      ],
      "execution_count": 15,
      "outputs": [
        {
          "output_type": "execute_result",
          "data": {
            "text/plain": [
              "city\n",
              "Biên Hòa         35\n",
              "Bà Rịa           19\n",
              "Bắc Giang         1\n",
              "Bắc Ninh         13\n",
              "Cam Ranh          5\n",
              "Cần thơ           1\n",
              "Dĩ An             5\n",
              "Huế               4\n",
              "Hà Nội         1216\n",
              "Hà Tiên           1\n",
              "Hòa Bình          1\n",
              "Hưng Yên          3\n",
              "Hạ Long           1\n",
              "Hồ Chí Minh     400\n",
              "Hội An            2\n",
              "Lạng Sơn          1\n",
              "Nam Định          3\n",
              "Nha Trang        12\n",
              "Phan Thiết       11\n",
              "Phú Quốc          6\n",
              "Phúc Yên          3\n",
              "Quy Nhơn          2\n",
              "Rạch Giá          1\n",
              "Sầm Sơn           3\n",
              "Thanh Hóa         6\n",
              "Thuận An          5\n",
              "Thủ Dầu Một      20\n",
              "Tân An            5\n",
              "Vinh              1\n",
              "Vĩnh Long         1\n",
              "hải Phòng        44\n",
              "Đà Lạt           10\n",
              "dtype: int64"
            ]
          },
          "metadata": {},
          "execution_count": 15
        },
        {
          "output_type": "display_data",
          "data": {
            "image/png": "[encoded data removed]",
            "text/plain": [
              "<Figure size 432x288 with 1 Axes>"
            ]
          },
          "metadata": {
            "needs_background": "light"
          }
        }
      ]
    },
    {
      "cell_type": "code",
      "metadata": {
        "colab": {
          "base_uri": "https://localhost:8080/",
          "height": 417
        },
        "id": "tmwyRi5lxNNL",
        "outputId": "8b7695cf-7c43-48ea-8d10-96c3aab84ada"
      },
      "source": [
        "df"
      ],
      "execution_count": 40,
      "outputs": [
        {
          "output_type": "execute_result",
          "data": {
            "text/html": [
              "<div>\n",
              "<style scoped>\n",
              "    .dataframe tbody tr th:only-of-type {\n",
              "        vertical-align: middle;\n",
              "    }\n",
              "\n",
              "    .dataframe tbody tr th {\n",
              "        vertical-align: top;\n",
              "    }\n",
              "\n",
              "    .dataframe thead th {\n",
              "        text-align: right;\n",
              "    }\n",
              "</style>\n",
              "<table border=\"1\" class=\"dataframe\">\n",
              "  <thead>\n",
              "    <tr style=\"text-align: right;\">\n",
              "      <th></th>\n",
              "      <th>level_0</th>\n",
              "      <th>index</th>\n",
              "      <th>Date</th>\n",
              "      <th>địa chỉ</th>\n",
              "      <th>mặt tiền</th>\n",
              "      <th>đường vào</th>\n",
              "      <th>số tầng</th>\n",
              "      <th>số phòng  ngủ</th>\n",
              "      <th>số phòng toilet</th>\n",
              "      <th>m^2</th>\n",
              "      <th>price</th>\n",
              "      <th>city</th>\n",
              "    </tr>\n",
              "  </thead>\n",
              "  <tbody>\n",
              "    <tr>\n",
              "      <th>0</th>\n",
              "      <td>0</td>\n",
              "      <td>3</td>\n",
              "      <td>2021-09-10</td>\n",
              "      <td>Dự án Vinhomes Ocean Park Gia Lâm, Đường Ngọc ...</td>\n",
              "      <td>5.0</td>\n",
              "      <td>40.0</td>\n",
              "      <td>5.0</td>\n",
              "      <td>5.0</td>\n",
              "      <td>5.0</td>\n",
              "      <td>67.5</td>\n",
              "      <td>214.8</td>\n",
              "      <td>Hà Nội</td>\n",
              "    </tr>\n",
              "    <tr>\n",
              "      <th>1</th>\n",
              "      <td>2</td>\n",
              "      <td>6</td>\n",
              "      <td>2021-08-10</td>\n",
              "      <td>Dự án Izumi City, Biên Hòa, Đồng Nai</td>\n",
              "      <td>8.0</td>\n",
              "      <td>60.0</td>\n",
              "      <td>3.0</td>\n",
              "      <td>4.0</td>\n",
              "      <td>4.0</td>\n",
              "      <td>117.0</td>\n",
              "      <td>51.3</td>\n",
              "      <td>Biên Hòa</td>\n",
              "    </tr>\n",
              "    <tr>\n",
              "      <th>2</th>\n",
              "      <td>3</td>\n",
              "      <td>8</td>\n",
              "      <td>2021-08-10</td>\n",
              "      <td>Dự án Vinhomes Ocean Park Gia Lâm, Gia Lâm, Hà...</td>\n",
              "      <td>6.0</td>\n",
              "      <td>52.0</td>\n",
              "      <td>4.0</td>\n",
              "      <td>3.0</td>\n",
              "      <td>3.0</td>\n",
              "      <td>135.0</td>\n",
              "      <td>74.1</td>\n",
              "      <td>Hà Nội</td>\n",
              "    </tr>\n",
              "    <tr>\n",
              "      <th>3</th>\n",
              "      <td>4</td>\n",
              "      <td>10</td>\n",
              "      <td>2021-08-10</td>\n",
              "      <td>Ngõ 1 ngách 22 số 28, Đường Bùi Xương Trạch, P...</td>\n",
              "      <td>3.5</td>\n",
              "      <td>2.0</td>\n",
              "      <td>3.0</td>\n",
              "      <td>3.0</td>\n",
              "      <td>2.0</td>\n",
              "      <td>34.0</td>\n",
              "      <td>79.4</td>\n",
              "      <td>Hà Nội</td>\n",
              "    </tr>\n",
              "    <tr>\n",
              "      <th>4</th>\n",
              "      <td>5</td>\n",
              "      <td>11</td>\n",
              "      <td>2021-08-10</td>\n",
              "      <td>34 ngõ 637 Phố Trương Định, Phường Thịnh Liệt,...</td>\n",
              "      <td>3.5</td>\n",
              "      <td>3.0</td>\n",
              "      <td>5.0</td>\n",
              "      <td>3.0</td>\n",
              "      <td>4.0</td>\n",
              "      <td>35.0</td>\n",
              "      <td>94.3</td>\n",
              "      <td>Hà Nội</td>\n",
              "    </tr>\n",
              "    <tr>\n",
              "      <th>...</th>\n",
              "      <td>...</td>\n",
              "      <td>...</td>\n",
              "      <td>...</td>\n",
              "      <td>...</td>\n",
              "      <td>...</td>\n",
              "      <td>...</td>\n",
              "      <td>...</td>\n",
              "      <td>...</td>\n",
              "      <td>...</td>\n",
              "      <td>...</td>\n",
              "      <td>...</td>\n",
              "      <td>...</td>\n",
              "    </tr>\n",
              "    <tr>\n",
              "      <th>1836</th>\n",
              "      <td>1914</td>\n",
              "      <td>3356</td>\n",
              "      <td>2021-09-10</td>\n",
              "      <td>Đường Định Công Thượng, Phường Định Công, Hoàn...</td>\n",
              "      <td>4.0</td>\n",
              "      <td>3.0</td>\n",
              "      <td>4.0</td>\n",
              "      <td>4.0</td>\n",
              "      <td>3.0</td>\n",
              "      <td>47.0</td>\n",
              "      <td>63.4</td>\n",
              "      <td>Hà Nội</td>\n",
              "    </tr>\n",
              "    <tr>\n",
              "      <th>1837</th>\n",
              "      <td>1915</td>\n",
              "      <td>3359</td>\n",
              "      <td>2021-09-10</td>\n",
              "      <td>Phố Khúc Thừa Dụ, Phường Dịch Vọng, Cầu Giấy, ...</td>\n",
              "      <td>3.5</td>\n",
              "      <td>3.2</td>\n",
              "      <td>5.0</td>\n",
              "      <td>5.0</td>\n",
              "      <td>4.0</td>\n",
              "      <td>42.0</td>\n",
              "      <td>114.3</td>\n",
              "      <td>Hà Nội</td>\n",
              "    </tr>\n",
              "    <tr>\n",
              "      <th>1838</th>\n",
              "      <td>1916</td>\n",
              "      <td>3361</td>\n",
              "      <td>2021-09-10</td>\n",
              "      <td>Đường Hà Trì 2, Phường Hà Cầu, Hà Đông, Hà Nội</td>\n",
              "      <td>3.9</td>\n",
              "      <td>2.5</td>\n",
              "      <td>5.0</td>\n",
              "      <td>3.0</td>\n",
              "      <td>3.0</td>\n",
              "      <td>32.0</td>\n",
              "      <td>83.1</td>\n",
              "      <td>Hà Nội</td>\n",
              "    </tr>\n",
              "    <tr>\n",
              "      <th>1839</th>\n",
              "      <td>1917</td>\n",
              "      <td>3362</td>\n",
              "      <td>2021-09-10</td>\n",
              "      <td>Đường Thạnh Lộc 29, Phường Thạnh Lộc, Quận 12,...</td>\n",
              "      <td>4.0</td>\n",
              "      <td>8.0</td>\n",
              "      <td>4.0</td>\n",
              "      <td>4.0</td>\n",
              "      <td>5.0</td>\n",
              "      <td>68.0</td>\n",
              "      <td>69.1</td>\n",
              "      <td>Hồ Chí Minh</td>\n",
              "    </tr>\n",
              "    <tr>\n",
              "      <th>1840</th>\n",
              "      <td>1918</td>\n",
              "      <td>3363</td>\n",
              "      <td>2021-09-10</td>\n",
              "      <td>Dự án Vinhomes Ocean Park Gia Lâm, Huyện Gia L...</td>\n",
              "      <td>5.0</td>\n",
              "      <td>30.0</td>\n",
              "      <td>4.0</td>\n",
              "      <td>4.0</td>\n",
              "      <td>3.0</td>\n",
              "      <td>90.0</td>\n",
              "      <td>122.2</td>\n",
              "      <td>Hà Nội</td>\n",
              "    </tr>\n",
              "  </tbody>\n",
              "</table>\n",
              "<p>1841 rows × 12 columns</p>\n",
              "</div>"
            ],
            "text/plain": [
              "      level_0  index       Date  ...    m^2  price         city\n",
              "0           0      3 2021-09-10  ...   67.5  214.8       Hà Nội\n",
              "1           2      6 2021-08-10  ...  117.0   51.3     Biên Hòa\n",
              "2           3      8 2021-08-10  ...  135.0   74.1       Hà Nội\n",
              "3           4     10 2021-08-10  ...   34.0   79.4       Hà Nội\n",
              "4           5     11 2021-08-10  ...   35.0   94.3       Hà Nội\n",
              "...       ...    ...        ...  ...    ...    ...          ...\n",
              "1836     1914   3356 2021-09-10  ...   47.0   63.4       Hà Nội\n",
              "1837     1915   3359 2021-09-10  ...   42.0  114.3       Hà Nội\n",
              "1838     1916   3361 2021-09-10  ...   32.0   83.1       Hà Nội\n",
              "1839     1917   3362 2021-09-10  ...   68.0   69.1  Hồ Chí Minh\n",
              "1840     1918   3363 2021-09-10  ...   90.0  122.2       Hà Nội\n",
              "\n",
              "[1841 rows x 12 columns]"
            ]
          },
          "metadata": {},
          "execution_count": 40
        }
      ]
    },
    {
      "cell_type": "code",
      "metadata": {
        "id": "sSfBDChHxEND"
      },
      "source": [
        "#Compare price between city\n",
        "\n",
        "lst = ['Hà Nội', 'Hồ Chí Minh']\n",
        "hn_data = df[df['city']=='Hà Nội'].drop(['index', 'level_0'], axis = 1).reset_index()\n",
        "hcm_data = df[df['city']=='Hồ Chí Minh'].drop(['index', 'level_0'], axis = 1).reset_index()\n",
        "other_data = df[~df['city'].isin(lst)].drop(['index', 'level_0'], axis = 1).reset_index()\n",
        "\n",
        "def transform(df):\n",
        "  new_df = df\n",
        "  new_df = new_df.drop(['Date', 'city', 'index', 'địa chỉ'], axis = 1).reset_index().drop('index', axis = 1)  \n",
        "  dic_name = {\"mặt tiền\" : \"front\", \"đường vào\": \"roadwidth\", \"số tầng\" : \"floors\", \"số phòng ngủ\": \"bedrooms\",\n",
        "              \"số phòng toilet\" : \"bathrooms\", \"m^2\" : \"area\"}\n",
        "  final_df = new_df.rename(columns=dic_name)\n",
        "  \n",
        "  return final_df\n",
        "\n",
        "hn_clean = transform(hn_data)\n",
        "hcm_clean = transform(hcm_data)\n",
        "other_clean = transform(other_data)\n",
        "other_clean = other_clean.drop(int(other_data[other_data['price'] == other_data['price'].max()].index[0]))"
      ],
      "execution_count": 43,
      "outputs": []
    },
    {
      "cell_type": "code",
      "metadata": {
        "colab": {
          "base_uri": "https://localhost:8080/",
          "height": 502
        },
        "id": "ieeOpkq3xeX0",
        "outputId": "d4487978-325d-4ce6-8bd7-79a4b401a9df"
      },
      "source": [
        "fig = plt.figure(figsize=(12, 8))\n",
        "ax1 = fig.add_subplot(111)\n",
        "\n",
        "ax1.scatter(hn_clean['area'], hn_clean['price'], c='g', marker='o', label = 'hn')\n",
        "ax1.scatter(hcm_clean['area'], hcm_clean['price'], c='b', marker='v', label = 'hcm')\n",
        "ax1.scatter(other_clean['area'], other_clean['price'], c='r', marker='s', label = 'other')\n",
        "plt.legend(loc='upper right', fontsize=20)\n",
        "plt.xlabel('area', size = 15)\n",
        "plt.ylabel('price', size = 15)\n",
        "plt.show()"
      ],
      "execution_count": 45,
      "outputs": [
        {
          "output_type": "display_data",
          "data": {
            "image/png": "[encoded data removed]",
            "text/plain": [
              "<Figure size 864x576 with 1 Axes>"
            ]
          },
          "metadata": {
            "needs_background": "light"
          }
        }
      ]
    },
    {
      "cell_type": "code",
      "metadata": {
        "id": "W_zj_Vb8O6az"
      },
      "source": [
        "dataframe = df[df['city'] == 'Hà Nội']"
      ],
      "execution_count": 16,
      "outputs": []
    },
    {
      "cell_type": "code",
      "metadata": {
        "id": "yCyfoBexVlcl"
      },
      "source": [
        "listColumn=dataframe.columns\n",
        "dataframe =dataframe[listColumn[2::]].reset_index()"
      ],
      "execution_count": 17,
      "outputs": []
    },
    {
      "cell_type": "code",
      "metadata": {
        "id": "E16jVV0GSDG5"
      },
      "source": [
        "listQuan = pd.read_csv('/content/LinearRegression-Module/HaNoi quan - Sheet1.csv')\n",
        "danhSachQuan = listQuan['Tên gọi'].tolist()"
      ],
      "execution_count": 18,
      "outputs": []
    },
    {
      "cell_type": "code",
      "metadata": {
        "id": "C13ofiLVWnDU"
      },
      "source": [
        "def checkLocateInCity(listCity,locate,listQuan): \n",
        "  check = 0\n",
        "  for city in listCity:\n",
        "    if city.lower() in locate.strip().lower():\n",
        "      return city"
      ],
      "execution_count": 19,
      "outputs": []
    },
    {
      "cell_type": "code",
      "metadata": {
        "id": "noT0i_p4Thbd",
        "colab": {
          "base_uri": "https://localhost:8080/"
        },
        "outputId": "551ac2b5-585d-48d8-e3de-6f7f6ce89d09"
      },
      "source": [
        "for i in range(len(dataframe)):\n",
        "  locate = dataframe['địa chỉ'][i]\n",
        "  city = checkLocateInCity(danhSachQuan,locate,listQuan)\n",
        "  if city is not 0:\n",
        "    try:\n",
        "      dataframe['locate'][i] = city\n",
        "    except:\n",
        "      dataframe['locate']=\"\"\n",
        "      dataframe['locate'][i] = city  "
      ],
      "execution_count": 20,
      "outputs": [
        {
          "output_type": "stream",
          "name": "stderr",
          "text": [
            "/usr/local/lib/python3.7/dist-packages/ipykernel_launcher.py:10: SettingWithCopyWarning: \n",
            "A value is trying to be set on a copy of a slice from a DataFrame\n",
            "\n",
            "See the caveats in the documentation: https://pandas.pydata.org/pandas-docs/stable/user_guide/indexing.html#returning-a-view-versus-a-copy\n",
            "  # Remove the CWD from sys.path while we load stuff.\n",
            "/usr/local/lib/python3.7/dist-packages/ipykernel_launcher.py:7: SettingWithCopyWarning: \n",
            "A value is trying to be set on a copy of a slice from a DataFrame\n",
            "\n",
            "See the caveats in the documentation: https://pandas.pydata.org/pandas-docs/stable/user_guide/indexing.html#returning-a-view-versus-a-copy\n",
            "  import sys\n"
          ]
        }
      ]
    },
    {
      "cell_type": "code",
      "metadata": {
        "id": "dK131FpiWS2r",
        "colab": {
          "base_uri": "https://localhost:8080/",
          "height": 417
        },
        "outputId": "481e7373-56b9-4a7e-dc5e-30e5f9039db3"
      },
      "source": [
        "dataframe = dataframe.dropna()\n",
        "dataframe"
      ],
      "execution_count": 21,
      "outputs": [
        {
          "output_type": "execute_result",
          "data": {
            "text/html": [
              "<div>\n",
              "<style scoped>\n",
              "    .dataframe tbody tr th:only-of-type {\n",
              "        vertical-align: middle;\n",
              "    }\n",
              "\n",
              "    .dataframe tbody tr th {\n",
              "        vertical-align: top;\n",
              "    }\n",
              "\n",
              "    .dataframe thead th {\n",
              "        text-align: right;\n",
              "    }\n",
              "</style>\n",
              "<table border=\"1\" class=\"dataframe\">\n",
              "  <thead>\n",
              "    <tr style=\"text-align: right;\">\n",
              "      <th></th>\n",
              "      <th>index</th>\n",
              "      <th>Date</th>\n",
              "      <th>địa chỉ</th>\n",
              "      <th>mặt tiền</th>\n",
              "      <th>đường vào</th>\n",
              "      <th>số tầng</th>\n",
              "      <th>số phòng  ngủ</th>\n",
              "      <th>số phòng toilet</th>\n",
              "      <th>m^2</th>\n",
              "      <th>price</th>\n",
              "      <th>city</th>\n",
              "      <th>locate</th>\n",
              "    </tr>\n",
              "  </thead>\n",
              "  <tbody>\n",
              "    <tr>\n",
              "      <th>0</th>\n",
              "      <td>0</td>\n",
              "      <td>2021-09-10</td>\n",
              "      <td>Dự án Vinhomes Ocean Park Gia Lâm, Đường Ngọc ...</td>\n",
              "      <td>5.0</td>\n",
              "      <td>40.0</td>\n",
              "      <td>5.0</td>\n",
              "      <td>5.0</td>\n",
              "      <td>5.0</td>\n",
              "      <td>67.5</td>\n",
              "      <td>214.8</td>\n",
              "      <td>Hà Nội</td>\n",
              "      <td>Gia Lâm</td>\n",
              "    </tr>\n",
              "    <tr>\n",
              "      <th>1</th>\n",
              "      <td>2</td>\n",
              "      <td>2021-08-10</td>\n",
              "      <td>Dự án Vinhomes Ocean Park Gia Lâm, Gia Lâm, Hà...</td>\n",
              "      <td>6.0</td>\n",
              "      <td>52.0</td>\n",
              "      <td>4.0</td>\n",
              "      <td>3.0</td>\n",
              "      <td>3.0</td>\n",
              "      <td>135.0</td>\n",
              "      <td>74.1</td>\n",
              "      <td>Hà Nội</td>\n",
              "      <td>Gia Lâm</td>\n",
              "    </tr>\n",
              "    <tr>\n",
              "      <th>2</th>\n",
              "      <td>3</td>\n",
              "      <td>2021-08-10</td>\n",
              "      <td>Ngõ 1 ngách 22 số 28, Đường Bùi Xương Trạch, P...</td>\n",
              "      <td>3.5</td>\n",
              "      <td>2.0</td>\n",
              "      <td>3.0</td>\n",
              "      <td>3.0</td>\n",
              "      <td>2.0</td>\n",
              "      <td>34.0</td>\n",
              "      <td>79.4</td>\n",
              "      <td>Hà Nội</td>\n",
              "      <td>Thanh Xuân</td>\n",
              "    </tr>\n",
              "    <tr>\n",
              "      <th>3</th>\n",
              "      <td>4</td>\n",
              "      <td>2021-08-10</td>\n",
              "      <td>34 ngõ 637 Phố Trương Định, Phường Thịnh Liệt,...</td>\n",
              "      <td>3.5</td>\n",
              "      <td>3.0</td>\n",
              "      <td>5.0</td>\n",
              "      <td>3.0</td>\n",
              "      <td>4.0</td>\n",
              "      <td>35.0</td>\n",
              "      <td>94.3</td>\n",
              "      <td>Hà Nội</td>\n",
              "      <td>Hoàng Mai</td>\n",
              "    </tr>\n",
              "    <tr>\n",
              "      <th>4</th>\n",
              "      <td>6</td>\n",
              "      <td>2021-08-10</td>\n",
              "      <td>Dự án Vinhomes Green Bay Mễ Trì, Đường Hoàng L...</td>\n",
              "      <td>7.5</td>\n",
              "      <td>13.0</td>\n",
              "      <td>4.0</td>\n",
              "      <td>4.0</td>\n",
              "      <td>5.0</td>\n",
              "      <td>93.5</td>\n",
              "      <td>278.1</td>\n",
              "      <td>Hà Nội</td>\n",
              "      <td>Nam Từ Liêm</td>\n",
              "    </tr>\n",
              "    <tr>\n",
              "      <th>...</th>\n",
              "      <td>...</td>\n",
              "      <td>...</td>\n",
              "      <td>...</td>\n",
              "      <td>...</td>\n",
              "      <td>...</td>\n",
              "      <td>...</td>\n",
              "      <td>...</td>\n",
              "      <td>...</td>\n",
              "      <td>...</td>\n",
              "      <td>...</td>\n",
              "      <td>...</td>\n",
              "      <td>...</td>\n",
              "    </tr>\n",
              "    <tr>\n",
              "      <th>1211</th>\n",
              "      <td>1835</td>\n",
              "      <td>2021-09-10</td>\n",
              "      <td>Đường Định Công, Phường Định Công, Hoàng Mai, ...</td>\n",
              "      <td>5.0</td>\n",
              "      <td>4.0</td>\n",
              "      <td>2.0</td>\n",
              "      <td>2.0</td>\n",
              "      <td>2.0</td>\n",
              "      <td>80.0</td>\n",
              "      <td>65.0</td>\n",
              "      <td>Hà Nội</td>\n",
              "      <td>Hoàng Mai</td>\n",
              "    </tr>\n",
              "    <tr>\n",
              "      <th>1212</th>\n",
              "      <td>1836</td>\n",
              "      <td>2021-09-10</td>\n",
              "      <td>Đường Định Công Thượng, Phường Định Công, Hoàn...</td>\n",
              "      <td>4.0</td>\n",
              "      <td>3.0</td>\n",
              "      <td>4.0</td>\n",
              "      <td>4.0</td>\n",
              "      <td>3.0</td>\n",
              "      <td>47.0</td>\n",
              "      <td>63.4</td>\n",
              "      <td>Hà Nội</td>\n",
              "      <td>Hoàng Mai</td>\n",
              "    </tr>\n",
              "    <tr>\n",
              "      <th>1213</th>\n",
              "      <td>1837</td>\n",
              "      <td>2021-09-10</td>\n",
              "      <td>Phố Khúc Thừa Dụ, Phường Dịch Vọng, Cầu Giấy, ...</td>\n",
              "      <td>3.5</td>\n",
              "      <td>3.2</td>\n",
              "      <td>5.0</td>\n",
              "      <td>5.0</td>\n",
              "      <td>4.0</td>\n",
              "      <td>42.0</td>\n",
              "      <td>114.3</td>\n",
              "      <td>Hà Nội</td>\n",
              "      <td>Cầu Giấy</td>\n",
              "    </tr>\n",
              "    <tr>\n",
              "      <th>1214</th>\n",
              "      <td>1838</td>\n",
              "      <td>2021-09-10</td>\n",
              "      <td>Đường Hà Trì 2, Phường Hà Cầu, Hà Đông, Hà Nội</td>\n",
              "      <td>3.9</td>\n",
              "      <td>2.5</td>\n",
              "      <td>5.0</td>\n",
              "      <td>3.0</td>\n",
              "      <td>3.0</td>\n",
              "      <td>32.0</td>\n",
              "      <td>83.1</td>\n",
              "      <td>Hà Nội</td>\n",
              "      <td>Hà Đông</td>\n",
              "    </tr>\n",
              "    <tr>\n",
              "      <th>1215</th>\n",
              "      <td>1840</td>\n",
              "      <td>2021-09-10</td>\n",
              "      <td>Dự án Vinhomes Ocean Park Gia Lâm, Huyện Gia L...</td>\n",
              "      <td>5.0</td>\n",
              "      <td>30.0</td>\n",
              "      <td>4.0</td>\n",
              "      <td>4.0</td>\n",
              "      <td>3.0</td>\n",
              "      <td>90.0</td>\n",
              "      <td>122.2</td>\n",
              "      <td>Hà Nội</td>\n",
              "      <td>Gia Lâm</td>\n",
              "    </tr>\n",
              "  </tbody>\n",
              "</table>\n",
              "<p>1216 rows × 12 columns</p>\n",
              "</div>"
            ],
            "text/plain": [
              "      index       Date  ...    city       locate\n",
              "0         0 2021-09-10  ...  Hà Nội      Gia Lâm\n",
              "1         2 2021-08-10  ...  Hà Nội      Gia Lâm\n",
              "2         3 2021-08-10  ...  Hà Nội   Thanh Xuân\n",
              "3         4 2021-08-10  ...  Hà Nội    Hoàng Mai\n",
              "4         6 2021-08-10  ...  Hà Nội  Nam Từ Liêm\n",
              "...     ...        ...  ...     ...          ...\n",
              "1211   1835 2021-09-10  ...  Hà Nội    Hoàng Mai\n",
              "1212   1836 2021-09-10  ...  Hà Nội    Hoàng Mai\n",
              "1213   1837 2021-09-10  ...  Hà Nội     Cầu Giấy\n",
              "1214   1838 2021-09-10  ...  Hà Nội      Hà Đông\n",
              "1215   1840 2021-09-10  ...  Hà Nội      Gia Lâm\n",
              "\n",
              "[1216 rows x 12 columns]"
            ]
          },
          "metadata": {},
          "execution_count": 21
        }
      ]
    },
    {
      "cell_type": "code",
      "metadata": {
        "id": "n4CXhN2mSLbg",
        "colab": {
          "base_uri": "https://localhost:8080/",
          "height": 1000
        },
        "outputId": "788bdbcc-55d1-44b5-d0af-1a9960467d70"
      },
      "source": [
        "count=dataframe.groupby('locate').size().rename('count')\n",
        "mean= dataframe.groupby('locate').mean()['price'].rename('mean')\n",
        "var = dataframe.groupby('locate').std()['price'].rename('STD')\n",
        "\n",
        "# des =pd.merge(pd.merge(count,mean,on='locate'),var,on='locate')\n",
        "\n",
        "des=pd.concat([count, mean,var], axis=1)\n",
        "des=des.sort_values(by='count')\n",
        "des.plot(kind=\"bar\")\n",
        "des"
      ],
      "execution_count": 22,
      "outputs": [
        {
          "output_type": "execute_result",
          "data": {
            "text/html": [
              "<div>\n",
              "<style scoped>\n",
              "    .dataframe tbody tr th:only-of-type {\n",
              "        vertical-align: middle;\n",
              "    }\n",
              "\n",
              "    .dataframe tbody tr th {\n",
              "        vertical-align: top;\n",
              "    }\n",
              "\n",
              "    .dataframe thead th {\n",
              "        text-align: right;\n",
              "    }\n",
              "</style>\n",
              "<table border=\"1\" class=\"dataframe\">\n",
              "  <thead>\n",
              "    <tr style=\"text-align: right;\">\n",
              "      <th></th>\n",
              "      <th>count</th>\n",
              "      <th>mean</th>\n",
              "      <th>STD</th>\n",
              "    </tr>\n",
              "    <tr>\n",
              "      <th>locate</th>\n",
              "      <th></th>\n",
              "      <th></th>\n",
              "      <th></th>\n",
              "    </tr>\n",
              "  </thead>\n",
              "  <tbody>\n",
              "    <tr>\n",
              "      <th>Quốc Oai</th>\n",
              "      <td>1</td>\n",
              "      <td>45.000000</td>\n",
              "      <td>NaN</td>\n",
              "    </tr>\n",
              "    <tr>\n",
              "      <th>Sơn Tây</th>\n",
              "      <td>1</td>\n",
              "      <td>33.300000</td>\n",
              "      <td>NaN</td>\n",
              "    </tr>\n",
              "    <tr>\n",
              "      <th>Chương Mỹ</th>\n",
              "      <td>2</td>\n",
              "      <td>20.800000</td>\n",
              "      <td>8.202439</td>\n",
              "    </tr>\n",
              "    <tr>\n",
              "      <th>Thạch Thất</th>\n",
              "      <td>3</td>\n",
              "      <td>29.100000</td>\n",
              "      <td>13.286459</td>\n",
              "    </tr>\n",
              "    <tr>\n",
              "      <th>Hoàn Kiếm</th>\n",
              "      <td>4</td>\n",
              "      <td>531.150000</td>\n",
              "      <td>316.089149</td>\n",
              "    </tr>\n",
              "    <tr>\n",
              "      <th>Đan Phượng</th>\n",
              "      <td>5</td>\n",
              "      <td>66.180000</td>\n",
              "      <td>9.266175</td>\n",
              "    </tr>\n",
              "    <tr>\n",
              "      <th>Đông Anh</th>\n",
              "      <td>6</td>\n",
              "      <td>50.555000</td>\n",
              "      <td>17.479638</td>\n",
              "    </tr>\n",
              "    <tr>\n",
              "      <th>Thanh Oai</th>\n",
              "      <td>13</td>\n",
              "      <td>54.453846</td>\n",
              "      <td>25.768056</td>\n",
              "    </tr>\n",
              "    <tr>\n",
              "      <th>Gia Lâm</th>\n",
              "      <td>17</td>\n",
              "      <td>131.050000</td>\n",
              "      <td>53.840261</td>\n",
              "    </tr>\n",
              "    <tr>\n",
              "      <th>Bắc Từ Liêm</th>\n",
              "      <td>22</td>\n",
              "      <td>77.018182</td>\n",
              "      <td>26.751549</td>\n",
              "    </tr>\n",
              "    <tr>\n",
              "      <th>Hoài Đức</th>\n",
              "      <td>27</td>\n",
              "      <td>73.967037</td>\n",
              "      <td>22.088858</td>\n",
              "    </tr>\n",
              "    <tr>\n",
              "      <th>Thanh Trì</th>\n",
              "      <td>30</td>\n",
              "      <td>83.145667</td>\n",
              "      <td>19.585528</td>\n",
              "    </tr>\n",
              "    <tr>\n",
              "      <th>Ba Đình</th>\n",
              "      <td>52</td>\n",
              "      <td>199.719231</td>\n",
              "      <td>109.604181</td>\n",
              "    </tr>\n",
              "    <tr>\n",
              "      <th>Hai Bà Trưng</th>\n",
              "      <td>66</td>\n",
              "      <td>150.100000</td>\n",
              "      <td>94.131335</td>\n",
              "    </tr>\n",
              "    <tr>\n",
              "      <th>Tây Hồ</th>\n",
              "      <td>76</td>\n",
              "      <td>148.942105</td>\n",
              "      <td>59.760862</td>\n",
              "    </tr>\n",
              "    <tr>\n",
              "      <th>Thanh Xuân</th>\n",
              "      <td>91</td>\n",
              "      <td>135.291758</td>\n",
              "      <td>62.996142</td>\n",
              "    </tr>\n",
              "    <tr>\n",
              "      <th>Long Biên</th>\n",
              "      <td>97</td>\n",
              "      <td>109.617835</td>\n",
              "      <td>40.473905</td>\n",
              "    </tr>\n",
              "    <tr>\n",
              "      <th>Nam Từ Liêm</th>\n",
              "      <td>104</td>\n",
              "      <td>121.972115</td>\n",
              "      <td>55.239820</td>\n",
              "    </tr>\n",
              "    <tr>\n",
              "      <th>Hoàng Mai</th>\n",
              "      <td>112</td>\n",
              "      <td>110.484375</td>\n",
              "      <td>44.397553</td>\n",
              "    </tr>\n",
              "    <tr>\n",
              "      <th>Đống Đa</th>\n",
              "      <td>112</td>\n",
              "      <td>165.836607</td>\n",
              "      <td>98.088529</td>\n",
              "    </tr>\n",
              "    <tr>\n",
              "      <th>Cầu Giấy</th>\n",
              "      <td>165</td>\n",
              "      <td>168.231091</td>\n",
              "      <td>75.599743</td>\n",
              "    </tr>\n",
              "    <tr>\n",
              "      <th>Hà Đông</th>\n",
              "      <td>210</td>\n",
              "      <td>93.892524</td>\n",
              "      <td>37.893072</td>\n",
              "    </tr>\n",
              "  </tbody>\n",
              "</table>\n",
              "</div>"
            ],
            "text/plain": [
              "              count        mean         STD\n",
              "locate                                     \n",
              "Quốc Oai          1   45.000000         NaN\n",
              "Sơn Tây           1   33.300000         NaN\n",
              "Chương Mỹ         2   20.800000    8.202439\n",
              "Thạch Thất        3   29.100000   13.286459\n",
              "Hoàn Kiếm         4  531.150000  316.089149\n",
              "Đan Phượng        5   66.180000    9.266175\n",
              "Đông Anh          6   50.555000   17.479638\n",
              "Thanh Oai        13   54.453846   25.768056\n",
              "Gia Lâm          17  131.050000   53.840261\n",
              "Bắc Từ Liêm      22   77.018182   26.751549\n",
              "Hoài Đức         27   73.967037   22.088858\n",
              "Thanh Trì        30   83.145667   19.585528\n",
              "Ba Đình          52  199.719231  109.604181\n",
              "Hai Bà Trưng     66  150.100000   94.131335\n",
              "Tây Hồ           76  148.942105   59.760862\n",
              "Thanh Xuân       91  135.291758   62.996142\n",
              "Long Biên        97  109.617835   40.473905\n",
              "Nam Từ Liêm     104  121.972115   55.239820\n",
              "Hoàng Mai       112  110.484375   44.397553\n",
              "Đống Đa         112  165.836607   98.088529\n",
              "Cầu Giấy        165  168.231091   75.599743\n",
              "Hà Đông         210   93.892524   37.893072"
            ]
          },
          "metadata": {},
          "execution_count": 22
        },
        {
          "output_type": "display_data",
          "data": {
            "image/png": "[encoded data removed]",
            "text/plain": [
              "<Figure size 432x288 with 1 Axes>"
            ]
          },
          "metadata": {
            "needs_background": "light"
          }
        }
      ]
    },
    {
      "cell_type": "code",
      "metadata": {
        "id": "z5mOD56dU7uN",
        "colab": {
          "base_uri": "https://localhost:8080/",
          "height": 352
        },
        "outputId": "307ba8bd-9e3a-40d2-dfec-d18011cc6399"
      },
      "source": [
        "des[des['count'] >50].plot(kind='bar')"
      ],
      "execution_count": 23,
      "outputs": [
        {
          "output_type": "execute_result",
          "data": {
            "text/plain": [
              "<matplotlib.axes._subplots.AxesSubplot at 0x7f1f72616d50>"
            ]
          },
          "metadata": {},
          "execution_count": 23
        },
        {
          "output_type": "display_data",
          "data": {
            "image/png": "[encoded data removed]",
            "text/plain": [
              "<Figure size 432x288 with 1 Axes>"
            ]
          },
          "metadata": {
            "needs_background": "light"
          }
        }
      ]
    },
    {
      "cell_type": "code",
      "metadata": {
        "id": "lWhZZUKVLX2B"
      },
      "source": [
        "chose_locate=list(des[des['count'] >50].index)\n"
      ],
      "execution_count": 24,
      "outputs": []
    },
    {
      "cell_type": "code",
      "metadata": {
        "id": "67GOGvfeVEuj",
        "colab": {
          "base_uri": "https://localhost:8080/",
          "height": 417
        },
        "outputId": "7dfa7d72-c218-42f5-86dd-a02b507640e9"
      },
      "source": [
        "dataUse= dataframe[dataframe['locate'].isin(chose_locate)]\n",
        "dataUse"
      ],
      "execution_count": 76,
      "outputs": [
        {
          "output_type": "execute_result",
          "data": {
            "text/html": [
              "<div>\n",
              "<style scoped>\n",
              "    .dataframe tbody tr th:only-of-type {\n",
              "        vertical-align: middle;\n",
              "    }\n",
              "\n",
              "    .dataframe tbody tr th {\n",
              "        vertical-align: top;\n",
              "    }\n",
              "\n",
              "    .dataframe thead th {\n",
              "        text-align: right;\n",
              "    }\n",
              "</style>\n",
              "<table border=\"1\" class=\"dataframe\">\n",
              "  <thead>\n",
              "    <tr style=\"text-align: right;\">\n",
              "      <th></th>\n",
              "      <th>index</th>\n",
              "      <th>Date</th>\n",
              "      <th>địa chỉ</th>\n",
              "      <th>mặt tiền</th>\n",
              "      <th>đường vào</th>\n",
              "      <th>số tầng</th>\n",
              "      <th>số phòng  ngủ</th>\n",
              "      <th>số phòng toilet</th>\n",
              "      <th>m^2</th>\n",
              "      <th>price</th>\n",
              "      <th>city</th>\n",
              "      <th>locate</th>\n",
              "    </tr>\n",
              "  </thead>\n",
              "  <tbody>\n",
              "    <tr>\n",
              "      <th>2</th>\n",
              "      <td>3</td>\n",
              "      <td>2021-08-10</td>\n",
              "      <td>Ngõ 1 ngách 22 số 28, Đường Bùi Xương Trạch, P...</td>\n",
              "      <td>3.5</td>\n",
              "      <td>2.0</td>\n",
              "      <td>3.0</td>\n",
              "      <td>3.0</td>\n",
              "      <td>2.0</td>\n",
              "      <td>34.0</td>\n",
              "      <td>79.4</td>\n",
              "      <td>Hà Nội</td>\n",
              "      <td>Thanh Xuân</td>\n",
              "    </tr>\n",
              "    <tr>\n",
              "      <th>3</th>\n",
              "      <td>4</td>\n",
              "      <td>2021-08-10</td>\n",
              "      <td>34 ngõ 637 Phố Trương Định, Phường Thịnh Liệt,...</td>\n",
              "      <td>3.5</td>\n",
              "      <td>3.0</td>\n",
              "      <td>5.0</td>\n",
              "      <td>3.0</td>\n",
              "      <td>4.0</td>\n",
              "      <td>35.0</td>\n",
              "      <td>94.3</td>\n",
              "      <td>Hà Nội</td>\n",
              "      <td>Hoàng Mai</td>\n",
              "    </tr>\n",
              "    <tr>\n",
              "      <th>4</th>\n",
              "      <td>6</td>\n",
              "      <td>2021-08-10</td>\n",
              "      <td>Dự án Vinhomes Green Bay Mễ Trì, Đường Hoàng L...</td>\n",
              "      <td>7.5</td>\n",
              "      <td>13.0</td>\n",
              "      <td>4.0</td>\n",
              "      <td>4.0</td>\n",
              "      <td>5.0</td>\n",
              "      <td>93.5</td>\n",
              "      <td>278.1</td>\n",
              "      <td>Hà Nội</td>\n",
              "      <td>Nam Từ Liêm</td>\n",
              "    </tr>\n",
              "    <tr>\n",
              "      <th>5</th>\n",
              "      <td>9</td>\n",
              "      <td>2021-07-10</td>\n",
              "      <td>Đường Nguyễn Khang, Phường Yên Hòa, Cầu Giấy, ...</td>\n",
              "      <td>6.5</td>\n",
              "      <td>5.0</td>\n",
              "      <td>7.0</td>\n",
              "      <td>5.0</td>\n",
              "      <td>5.0</td>\n",
              "      <td>53.0</td>\n",
              "      <td>292.5</td>\n",
              "      <td>Hà Nội</td>\n",
              "      <td>Cầu Giấy</td>\n",
              "    </tr>\n",
              "    <tr>\n",
              "      <th>6</th>\n",
              "      <td>11</td>\n",
              "      <td>2021-06-10</td>\n",
              "      <td>Đường Lê Trọng Tấn, Phường Dương Nội, Hà Đông,...</td>\n",
              "      <td>5.0</td>\n",
              "      <td>3.0</td>\n",
              "      <td>3.0</td>\n",
              "      <td>4.0</td>\n",
              "      <td>3.0</td>\n",
              "      <td>33.0</td>\n",
              "      <td>40.9</td>\n",
              "      <td>Hà Nội</td>\n",
              "      <td>Hà Đông</td>\n",
              "    </tr>\n",
              "    <tr>\n",
              "      <th>...</th>\n",
              "      <td>...</td>\n",
              "      <td>...</td>\n",
              "      <td>...</td>\n",
              "      <td>...</td>\n",
              "      <td>...</td>\n",
              "      <td>...</td>\n",
              "      <td>...</td>\n",
              "      <td>...</td>\n",
              "      <td>...</td>\n",
              "      <td>...</td>\n",
              "      <td>...</td>\n",
              "      <td>...</td>\n",
              "    </tr>\n",
              "    <tr>\n",
              "      <th>1210</th>\n",
              "      <td>1833</td>\n",
              "      <td>2021-09-10</td>\n",
              "      <td>Đường Tư Đình, Phường Long Biên, Long Biên, Hà...</td>\n",
              "      <td>3.8</td>\n",
              "      <td>2.4</td>\n",
              "      <td>3.0</td>\n",
              "      <td>3.0</td>\n",
              "      <td>3.0</td>\n",
              "      <td>56.0</td>\n",
              "      <td>60.4</td>\n",
              "      <td>Hà Nội</td>\n",
              "      <td>Long Biên</td>\n",
              "    </tr>\n",
              "    <tr>\n",
              "      <th>1211</th>\n",
              "      <td>1835</td>\n",
              "      <td>2021-09-10</td>\n",
              "      <td>Đường Định Công, Phường Định Công, Hoàng Mai, ...</td>\n",
              "      <td>5.0</td>\n",
              "      <td>4.0</td>\n",
              "      <td>2.0</td>\n",
              "      <td>2.0</td>\n",
              "      <td>2.0</td>\n",
              "      <td>80.0</td>\n",
              "      <td>65.0</td>\n",
              "      <td>Hà Nội</td>\n",
              "      <td>Hoàng Mai</td>\n",
              "    </tr>\n",
              "    <tr>\n",
              "      <th>1212</th>\n",
              "      <td>1836</td>\n",
              "      <td>2021-09-10</td>\n",
              "      <td>Đường Định Công Thượng, Phường Định Công, Hoàn...</td>\n",
              "      <td>4.0</td>\n",
              "      <td>3.0</td>\n",
              "      <td>4.0</td>\n",
              "      <td>4.0</td>\n",
              "      <td>3.0</td>\n",
              "      <td>47.0</td>\n",
              "      <td>63.4</td>\n",
              "      <td>Hà Nội</td>\n",
              "      <td>Hoàng Mai</td>\n",
              "    </tr>\n",
              "    <tr>\n",
              "      <th>1213</th>\n",
              "      <td>1837</td>\n",
              "      <td>2021-09-10</td>\n",
              "      <td>Phố Khúc Thừa Dụ, Phường Dịch Vọng, Cầu Giấy, ...</td>\n",
              "      <td>3.5</td>\n",
              "      <td>3.2</td>\n",
              "      <td>5.0</td>\n",
              "      <td>5.0</td>\n",
              "      <td>4.0</td>\n",
              "      <td>42.0</td>\n",
              "      <td>114.3</td>\n",
              "      <td>Hà Nội</td>\n",
              "      <td>Cầu Giấy</td>\n",
              "    </tr>\n",
              "    <tr>\n",
              "      <th>1214</th>\n",
              "      <td>1838</td>\n",
              "      <td>2021-09-10</td>\n",
              "      <td>Đường Hà Trì 2, Phường Hà Cầu, Hà Đông, Hà Nội</td>\n",
              "      <td>3.9</td>\n",
              "      <td>2.5</td>\n",
              "      <td>5.0</td>\n",
              "      <td>3.0</td>\n",
              "      <td>3.0</td>\n",
              "      <td>32.0</td>\n",
              "      <td>83.1</td>\n",
              "      <td>Hà Nội</td>\n",
              "      <td>Hà Đông</td>\n",
              "    </tr>\n",
              "  </tbody>\n",
              "</table>\n",
              "<p>1085 rows × 12 columns</p>\n",
              "</div>"
            ],
            "text/plain": [
              "      index       Date  ...    city       locate\n",
              "2         3 2021-08-10  ...  Hà Nội   Thanh Xuân\n",
              "3         4 2021-08-10  ...  Hà Nội    Hoàng Mai\n",
              "4         6 2021-08-10  ...  Hà Nội  Nam Từ Liêm\n",
              "5         9 2021-07-10  ...  Hà Nội     Cầu Giấy\n",
              "6        11 2021-06-10  ...  Hà Nội      Hà Đông\n",
              "...     ...        ...  ...     ...          ...\n",
              "1210   1833 2021-09-10  ...  Hà Nội    Long Biên\n",
              "1211   1835 2021-09-10  ...  Hà Nội    Hoàng Mai\n",
              "1212   1836 2021-09-10  ...  Hà Nội    Hoàng Mai\n",
              "1213   1837 2021-09-10  ...  Hà Nội     Cầu Giấy\n",
              "1214   1838 2021-09-10  ...  Hà Nội      Hà Đông\n",
              "\n",
              "[1085 rows x 12 columns]"
            ]
          },
          "metadata": {},
          "execution_count": 76
        }
      ]
    },
    {
      "cell_type": "code",
      "metadata": {
        "id": "UrgGFaO9SyaD"
      },
      "source": [
        "# module chuyển đổi địa chỉ thành trọng số dựa trên mean price \n",
        "def module_changeData(df,CATEGORICAL_COLUMNS):\n",
        "    df2 = df.copy()\n",
        "   #  Modify Data to number to use\n",
        "    for feature_name in CATEGORICAL_COLUMNS:\n",
        "        lst= list(dict(df.groupby(feature_name).mean().sort_values('price')['price']).keys()) # lấy những giá trị duy nhất\n",
        "        Dct={feature_name:lst,str(feature_name+\"ID\"):[int(i) for i in range(1,len(lst)+1)]} # Tạo từ điển với feature_name làm khóa và index làm giá trị\n",
        "        DF=pd.DataFrame.from_dict(Dct)\n",
        "        df2=pd.merge(df2,DF,on=feature_name) # join 2 bảng lại với nhau\n",
        "    # df2 = df2[[column for column in df2 if df2[column].dtype != \"object\"]]\n",
        "    return df2"
      ],
      "execution_count": 77,
      "outputs": []
    },
    {
      "cell_type": "code",
      "metadata": {
        "id": "3-g_4-GCWgAw"
      },
      "source": [
        "CATEGORICAL_COLUMNS=['locate']\n",
        "dataUse =  module_changeData(dataUse,CATEGORICAL_COLUMNS)"
      ],
      "execution_count": 78,
      "outputs": []
    },
    {
      "cell_type": "code",
      "metadata": {
        "id": "z8QrP-4_c7qD",
        "colab": {
          "base_uri": "https://localhost:8080/",
          "height": 417
        },
        "outputId": "4efd6c78-2142-45db-a1ab-84d7e09e0d50"
      },
      "source": [
        "dataUse.sort_values('locateID')"
      ],
      "execution_count": 79,
      "outputs": [
        {
          "output_type": "execute_result",
          "data": {
            "text/html": [
              "<div>\n",
              "<style scoped>\n",
              "    .dataframe tbody tr th:only-of-type {\n",
              "        vertical-align: middle;\n",
              "    }\n",
              "\n",
              "    .dataframe tbody tr th {\n",
              "        vertical-align: top;\n",
              "    }\n",
              "\n",
              "    .dataframe thead th {\n",
              "        text-align: right;\n",
              "    }\n",
              "</style>\n",
              "<table border=\"1\" class=\"dataframe\">\n",
              "  <thead>\n",
              "    <tr style=\"text-align: right;\">\n",
              "      <th></th>\n",
              "      <th>index</th>\n",
              "      <th>Date</th>\n",
              "      <th>địa chỉ</th>\n",
              "      <th>mặt tiền</th>\n",
              "      <th>đường vào</th>\n",
              "      <th>số tầng</th>\n",
              "      <th>số phòng  ngủ</th>\n",
              "      <th>số phòng toilet</th>\n",
              "      <th>m^2</th>\n",
              "      <th>price</th>\n",
              "      <th>city</th>\n",
              "      <th>locate</th>\n",
              "      <th>locateID</th>\n",
              "    </tr>\n",
              "  </thead>\n",
              "  <tbody>\n",
              "    <tr>\n",
              "      <th>542</th>\n",
              "      <td>679</td>\n",
              "      <td>2021-05-10</td>\n",
              "      <td>Đường Lê Hồng Phong, Phường Hà Cầu, Hà Đông, H...</td>\n",
              "      <td>5.0</td>\n",
              "      <td>2.5</td>\n",
              "      <td>5.0</td>\n",
              "      <td>3.0</td>\n",
              "      <td>4.0</td>\n",
              "      <td>42.0</td>\n",
              "      <td>70.2</td>\n",
              "      <td>Hà Nội</td>\n",
              "      <td>Hà Đông</td>\n",
              "      <td>1</td>\n",
              "    </tr>\n",
              "    <tr>\n",
              "      <th>606</th>\n",
              "      <td>1150</td>\n",
              "      <td>2021-02-10</td>\n",
              "      <td>Đường Quang Trung, Phường Đồng Mai, Hà Đông, H...</td>\n",
              "      <td>4.0</td>\n",
              "      <td>3.0</td>\n",
              "      <td>4.0</td>\n",
              "      <td>3.0</td>\n",
              "      <td>3.0</td>\n",
              "      <td>33.0</td>\n",
              "      <td>46.4</td>\n",
              "      <td>Hà Nội</td>\n",
              "      <td>Hà Đông</td>\n",
              "      <td>1</td>\n",
              "    </tr>\n",
              "    <tr>\n",
              "      <th>607</th>\n",
              "      <td>1158</td>\n",
              "      <td>2021-09-10</td>\n",
              "      <td>Đường Mậu Lương, Phường Kiến Hưng, Hà Đông, Hà...</td>\n",
              "      <td>4.5</td>\n",
              "      <td>6.0</td>\n",
              "      <td>5.0</td>\n",
              "      <td>3.0</td>\n",
              "      <td>4.0</td>\n",
              "      <td>35.0</td>\n",
              "      <td>85.7</td>\n",
              "      <td>Hà Nội</td>\n",
              "      <td>Hà Đông</td>\n",
              "      <td>1</td>\n",
              "    </tr>\n",
              "    <tr>\n",
              "      <th>608</th>\n",
              "      <td>1204</td>\n",
              "      <td>2021-09-10</td>\n",
              "      <td>Đường Mậu Lương, Phường Kiến Hưng, Hà Đông, Hà...</td>\n",
              "      <td>5.0</td>\n",
              "      <td>30.0</td>\n",
              "      <td>5.0</td>\n",
              "      <td>3.0</td>\n",
              "      <td>4.0</td>\n",
              "      <td>33.0</td>\n",
              "      <td>71.2</td>\n",
              "      <td>Hà Nội</td>\n",
              "      <td>Hà Đông</td>\n",
              "      <td>1</td>\n",
              "    </tr>\n",
              "    <tr>\n",
              "      <th>609</th>\n",
              "      <td>1216</td>\n",
              "      <td>2021-09-10</td>\n",
              "      <td>Đường Văn Khê, Phường Phú La, Hà Đông, Hà Nội</td>\n",
              "      <td>4.5</td>\n",
              "      <td>42.0</td>\n",
              "      <td>5.0</td>\n",
              "      <td>4.0</td>\n",
              "      <td>9.0</td>\n",
              "      <td>90.0</td>\n",
              "      <td>155.6</td>\n",
              "      <td>Hà Nội</td>\n",
              "      <td>Hà Đông</td>\n",
              "      <td>1</td>\n",
              "    </tr>\n",
              "    <tr>\n",
              "      <th>...</th>\n",
              "      <td>...</td>\n",
              "      <td>...</td>\n",
              "      <td>...</td>\n",
              "      <td>...</td>\n",
              "      <td>...</td>\n",
              "      <td>...</td>\n",
              "      <td>...</td>\n",
              "      <td>...</td>\n",
              "      <td>...</td>\n",
              "      <td>...</td>\n",
              "      <td>...</td>\n",
              "      <td>...</td>\n",
              "      <td>...</td>\n",
              "    </tr>\n",
              "    <tr>\n",
              "      <th>819</th>\n",
              "      <td>1224</td>\n",
              "      <td>2021-09-10</td>\n",
              "      <td>Đường Vĩnh Phúc, Phường Vĩnh Phúc, Ba Đình, ...</td>\n",
              "      <td>6.0</td>\n",
              "      <td>2.5</td>\n",
              "      <td>5.0</td>\n",
              "      <td>4.0</td>\n",
              "      <td>3.0</td>\n",
              "      <td>42.0</td>\n",
              "      <td>128.6</td>\n",
              "      <td>Hà Nội</td>\n",
              "      <td>Ba Đình</td>\n",
              "      <td>10</td>\n",
              "    </tr>\n",
              "    <tr>\n",
              "      <th>820</th>\n",
              "      <td>1355</td>\n",
              "      <td>2021-09-10</td>\n",
              "      <td>Phường Đội Cấn, Ba Đình, Hà Nội</td>\n",
              "      <td>4.6</td>\n",
              "      <td>2.0</td>\n",
              "      <td>6.0</td>\n",
              "      <td>3.0</td>\n",
              "      <td>6.0</td>\n",
              "      <td>30.0</td>\n",
              "      <td>143.3</td>\n",
              "      <td>Hà Nội</td>\n",
              "      <td>Ba Đình</td>\n",
              "      <td>10</td>\n",
              "    </tr>\n",
              "    <tr>\n",
              "      <th>821</th>\n",
              "      <td>1451</td>\n",
              "      <td>2021-09-10</td>\n",
              "      <td>Đường Nguyễn Thái Học, Phường Giảng Võ, Ba Đ...</td>\n",
              "      <td>5.5</td>\n",
              "      <td>30.0</td>\n",
              "      <td>3.0</td>\n",
              "      <td>3.0</td>\n",
              "      <td>3.0</td>\n",
              "      <td>55.0</td>\n",
              "      <td>500.0</td>\n",
              "      <td>Hà Nội</td>\n",
              "      <td>Ba Đình</td>\n",
              "      <td>10</td>\n",
              "    </tr>\n",
              "    <tr>\n",
              "      <th>809</th>\n",
              "      <td>780</td>\n",
              "      <td>2021-09-10</td>\n",
              "      <td>Đường Vĩnh Phúc, Phường Vĩnh Phúc, Ba Đình, ...</td>\n",
              "      <td>3.5</td>\n",
              "      <td>3.5</td>\n",
              "      <td>3.0</td>\n",
              "      <td>3.0</td>\n",
              "      <td>3.0</td>\n",
              "      <td>35.0</td>\n",
              "      <td>108.6</td>\n",
              "      <td>Hà Nội</td>\n",
              "      <td>Ba Đình</td>\n",
              "      <td>10</td>\n",
              "    </tr>\n",
              "    <tr>\n",
              "      <th>804</th>\n",
              "      <td>593</td>\n",
              "      <td>2021-09-10</td>\n",
              "      <td>Phố Trấn Vũ, Phường Trúc Bạch, Ba Đình, Hà Nội</td>\n",
              "      <td>12.0</td>\n",
              "      <td>10.0</td>\n",
              "      <td>4.0</td>\n",
              "      <td>3.0</td>\n",
              "      <td>3.0</td>\n",
              "      <td>65.0</td>\n",
              "      <td>369.2</td>\n",
              "      <td>Hà Nội</td>\n",
              "      <td>Ba Đình</td>\n",
              "      <td>10</td>\n",
              "    </tr>\n",
              "  </tbody>\n",
              "</table>\n",
              "<p>1085 rows × 13 columns</p>\n",
              "</div>"
            ],
            "text/plain": [
              "     index       Date  ...   locate  locateID\n",
              "542    679 2021-05-10  ...  Hà Đông         1\n",
              "606   1150 2021-02-10  ...  Hà Đông         1\n",
              "607   1158 2021-09-10  ...  Hà Đông         1\n",
              "608   1204 2021-09-10  ...  Hà Đông         1\n",
              "609   1216 2021-09-10  ...  Hà Đông         1\n",
              "..     ...        ...  ...      ...       ...\n",
              "819   1224 2021-09-10  ...  Ba Đình        10\n",
              "820   1355 2021-09-10  ...  Ba Đình        10\n",
              "821   1451 2021-09-10  ...  Ba Đình        10\n",
              "809    780 2021-09-10  ...  Ba Đình        10\n",
              "804    593 2021-09-10  ...  Ba Đình        10\n",
              "\n",
              "[1085 rows x 13 columns]"
            ]
          },
          "metadata": {},
          "execution_count": 79
        }
      ]
    },
    {
      "cell_type": "code",
      "metadata": {
        "id": "e6cfvr6nWScQ",
        "colab": {
          "base_uri": "https://localhost:8080/"
        },
        "outputId": "b7e131d2-4820-4a70-f911-d15d76338863"
      },
      "source": [
        "dataUse.columns"
      ],
      "execution_count": 80,
      "outputs": [
        {
          "output_type": "execute_result",
          "data": {
            "text/plain": [
              "Index(['index', 'Date', 'địa chỉ', 'mặt tiền', 'đường vào', 'số tầng',\n",
              "       'số phòng  ngủ', 'số phòng toilet', 'm^2', 'price', 'city', 'locate',\n",
              "       'locateID'],\n",
              "      dtype='object')"
            ]
          },
          "metadata": {},
          "execution_count": 80
        }
      ]
    },
    {
      "cell_type": "code",
      "metadata": {
        "id": "NviLjPXiy4sm"
      },
      "source": [
        "dic_name = {\"mặt tiền\" : \"front\", \"đường vào\": \"roadwidth\", \"số tầng\" : \"floors\", \"số phòng  ngủ\": \"bedrooms\",\n",
        "              \"số phòng toilet\" : \"bathrooms\", \"m^2\" : \"area\"}\n",
        "dataUse = dataUse.rename(columns = dic_name)"
      ],
      "execution_count": 81,
      "outputs": []
    },
    {
      "cell_type": "code",
      "metadata": {
        "id": "TIeiIkJ2JbnA",
        "colab": {
          "base_uri": "https://localhost:8080/",
          "height": 214
        },
        "outputId": "8c9e90f1-1c54-4e09-ca8e-cd37b60bcafb"
      },
      "source": [
        "sns.pairplot(x_vars=['floors','locateID','front','roadwidth','bedrooms','bathrooms','area'],y_vars=['price'],data=dataUse)"
      ],
      "execution_count": 82,
      "outputs": [
        {
          "output_type": "execute_result",
          "data": {
            "text/plain": [
              "<seaborn.axisgrid.PairGrid at 0x7f1f6085f210>"
            ]
          },
          "metadata": {},
          "execution_count": 82
        },
        {
          "output_type": "display_data",
          "data": {
            "image/png": "[encoded data removed]",
            "text/plain": [
              "<Figure size 1260x180 with 7 Axes>"
            ]
          },
          "metadata": {
            "needs_background": "light"
          }
        }
      ]
    },
    {
      "cell_type": "code",
      "metadata": {
        "id": "WmHKyBhEiMHu",
        "colab": {
          "base_uri": "https://localhost:8080/",
          "height": 884
        },
        "outputId": "3db5a9dd-8049-4201-c03c-dd6e86e0f4fa"
      },
      "source": [
        "# df1 = df.loc[:, df.columns != col]\n",
        "fig, ax = plt.subplots(figsize=(15,15)) \n",
        "sns.heatmap(dataUse[['floors','locateID','front','roadwidth','bedrooms','bathrooms','area']].corr(), annot=True)"
      ],
      "execution_count": 83,
      "outputs": [
        {
          "output_type": "execute_result",
          "data": {
            "text/plain": [
              "<matplotlib.axes._subplots.AxesSubplot at 0x7f1f60515410>"
            ]
          },
          "metadata": {},
          "execution_count": 83
        },
        {
          "output_type": "display_data",
          "data": {
            "image/png": "[encoded data removed]",
            "text/plain": [
              "<Figure size 1080x1080 with 2 Axes>"
            ]
          },
          "metadata": {
            "needs_background": "light"
          }
        }
      ]
    },
    {
      "cell_type": "code",
      "metadata": {
        "id": "jVfATZTfYyPU",
        "colab": {
          "base_uri": "https://localhost:8080/"
        },
        "outputId": "af2133b0-41de-4c93-83eb-2f89026fd009"
      },
      "source": [
        "corr_Matrix = dataUse[['floors','locateID','front','roadwidth','bedrooms','bathrooms','area','price']].corr()\n",
        "listFeature = list(corr_Matrix.nlargest(6, 'price')['price'].index)\n",
        "listFeature"
      ],
      "execution_count": 84,
      "outputs": [
        {
          "output_type": "execute_result",
          "data": {
            "text/plain": [
              "['price', 'locateID', 'roadwidth', 'floors', 'bathrooms', 'bedrooms']"
            ]
          },
          "metadata": {},
          "execution_count": 84
        }
      ]
    },
    {
      "cell_type": "code",
      "metadata": {
        "id": "zcXmYFSJphJE",
        "colab": {
          "base_uri": "https://localhost:8080/",
          "height": 281
        },
        "outputId": "99951342-5cc9-43e4-abc9-f95a69d29854"
      },
      "source": [
        "#lọc thêm outline\n",
        "plt.hist(dataUse['price'], bins=50)\n",
        "plt.title('Price distribution')\n",
        "plt.show()\n",
        "#"
      ],
      "execution_count": 85,
      "outputs": [
        {
          "output_type": "display_data",
          "data": {
            "image/png": "[encoded data removed]",
            "text/plain": [
              "<Figure size 432x288 with 1 Axes>"
            ]
          },
          "metadata": {
            "needs_background": "light"
          }
        }
      ]
    },
    {
      "cell_type": "code",
      "metadata": {
        "colab": {
          "base_uri": "https://localhost:8080/",
          "height": 314
        },
        "id": "R6RugW2Sx-dM",
        "outputId": "996973e7-50f8-4642-d70c-a2c1ad5add84"
      },
      "source": [
        "dataUse = dataUse[dataUse['price'] < 400][dataUse['price'] > 50]\n",
        "\n",
        "plt.hist(dataUse['price'], bins=50)\n",
        "plt.title('Price distribution')\n",
        "plt.show()"
      ],
      "execution_count": 86,
      "outputs": [
        {
          "output_type": "stream",
          "name": "stderr",
          "text": [
            "/usr/local/lib/python3.7/dist-packages/ipykernel_launcher.py:1: UserWarning: Boolean Series key will be reindexed to match DataFrame index.\n",
            "  \"\"\"Entry point for launching an IPython kernel.\n"
          ]
        },
        {
          "output_type": "display_data",
          "data": {
            "image/png": "[encoded data removed]",
            "text/plain": [
              "<Figure size 432x288 with 1 Axes>"
            ]
          },
          "metadata": {
            "needs_background": "light"
          }
        }
      ]
    },
    {
      "cell_type": "code",
      "metadata": {
        "id": "FxNRlbVkZhHm",
        "colab": {
          "base_uri": "https://localhost:8080/",
          "height": 203
        },
        "outputId": "6c59d872-1e9b-4b93-b595-c212e552f07d"
      },
      "source": [
        "dataUse = dataUse[listFeature]\n",
        "dataUse.head()"
      ],
      "execution_count": 87,
      "outputs": [
        {
          "output_type": "execute_result",
          "data": {
            "text/html": [
              "<div>\n",
              "<style scoped>\n",
              "    .dataframe tbody tr th:only-of-type {\n",
              "        vertical-align: middle;\n",
              "    }\n",
              "\n",
              "    .dataframe tbody tr th {\n",
              "        vertical-align: top;\n",
              "    }\n",
              "\n",
              "    .dataframe thead th {\n",
              "        text-align: right;\n",
              "    }\n",
              "</style>\n",
              "<table border=\"1\" class=\"dataframe\">\n",
              "  <thead>\n",
              "    <tr style=\"text-align: right;\">\n",
              "      <th></th>\n",
              "      <th>price</th>\n",
              "      <th>locateID</th>\n",
              "      <th>roadwidth</th>\n",
              "      <th>floors</th>\n",
              "      <th>bathrooms</th>\n",
              "      <th>bedrooms</th>\n",
              "    </tr>\n",
              "  </thead>\n",
              "  <tbody>\n",
              "    <tr>\n",
              "      <th>0</th>\n",
              "      <td>79.4</td>\n",
              "      <td>5</td>\n",
              "      <td>2.0</td>\n",
              "      <td>3.0</td>\n",
              "      <td>2.0</td>\n",
              "      <td>3.0</td>\n",
              "    </tr>\n",
              "    <tr>\n",
              "      <th>1</th>\n",
              "      <td>300.0</td>\n",
              "      <td>5</td>\n",
              "      <td>15.0</td>\n",
              "      <td>8.0</td>\n",
              "      <td>8.0</td>\n",
              "      <td>6.0</td>\n",
              "    </tr>\n",
              "    <tr>\n",
              "      <th>2</th>\n",
              "      <td>278.6</td>\n",
              "      <td>5</td>\n",
              "      <td>18.0</td>\n",
              "      <td>8.0</td>\n",
              "      <td>9.0</td>\n",
              "      <td>9.0</td>\n",
              "    </tr>\n",
              "    <tr>\n",
              "      <th>3</th>\n",
              "      <td>143.4</td>\n",
              "      <td>5</td>\n",
              "      <td>6.0</td>\n",
              "      <td>5.0</td>\n",
              "      <td>5.0</td>\n",
              "      <td>5.0</td>\n",
              "    </tr>\n",
              "    <tr>\n",
              "      <th>5</th>\n",
              "      <td>181.8</td>\n",
              "      <td>5</td>\n",
              "      <td>10.0</td>\n",
              "      <td>7.0</td>\n",
              "      <td>12.0</td>\n",
              "      <td>14.0</td>\n",
              "    </tr>\n",
              "  </tbody>\n",
              "</table>\n",
              "</div>"
            ],
            "text/plain": [
              "   price  locateID  roadwidth  floors  bathrooms  bedrooms\n",
              "0   79.4         5        2.0     3.0        2.0       3.0\n",
              "1  300.0         5       15.0     8.0        8.0       6.0\n",
              "2  278.6         5       18.0     8.0        9.0       9.0\n",
              "3  143.4         5        6.0     5.0        5.0       5.0\n",
              "5  181.8         5       10.0     7.0       12.0      14.0"
            ]
          },
          "metadata": {},
          "execution_count": 87
        }
      ]
    },
    {
      "cell_type": "markdown",
      "metadata": {
        "id": "YgbvXDYwmiA0"
      },
      "source": [
        "# Train,Test Data"
      ]
    },
    {
      "cell_type": "code",
      "metadata": {
        "id": "IFNoa47Yc2Ci"
      },
      "source": [
        "import random as rd\n",
        "y_train = dataUse['price'].to_numpy()\n",
        "\n",
        "xData=dataUse.drop(columns=['price'])\n",
        "x_train =xData.to_numpy()\n",
        "x_test = []\n",
        "y_test = []\n",
        "\n",
        "#Split data to train set and test set\n",
        "for i in range(int(x_train.shape[0] * 0.2)):\n",
        "  id = rd.randint(0, x_train.shape[0]-1)\n",
        "  x_test.append(x_train[id])\n",
        "  y_test.append(y_train[id])\n",
        "\n",
        "  x_train = np.delete(x_train, id, axis = 0)\n",
        "  y_train = np.delete(y_train, id)\n",
        "\n",
        "x_test = np.array(x_test)\n",
        "y_test = np.array(y_test)\n",
        "\n",
        "x_test = np.vstack((np.ones(x_test.shape[0], ),x_test.T)).T\n",
        "x_train = np.vstack((np.ones(x_train.shape[0], ), x_train.T)).T"
      ],
      "execution_count": 88,
      "outputs": []
    },
    {
      "cell_type": "code",
      "metadata": {
        "colab": {
          "base_uri": "https://localhost:8080/"
        },
        "id": "1G9SHRsU1APl",
        "outputId": "1be947c5-2852-4d86-ab45-c40b00e1a6f7"
      },
      "source": [
        "x_test"
      ],
      "execution_count": 96,
      "outputs": [
        {
          "output_type": "execute_result",
          "data": {
            "text/plain": [
              "array([[ 1.,  9.,  5.,  4.,  4.,  3.],\n",
              "       [ 1.,  8.,  3.,  2.,  2.,  2.],\n",
              "       [ 1.,  9.,  4.,  5.,  5.,  4.],\n",
              "       ...,\n",
              "       [ 1.,  4.,  4.,  5.,  4.,  3.],\n",
              "       [ 1.,  3., 15.,  3.,  5.,  5.],\n",
              "       [ 1.,  8.,  4.,  6.,  5.,  5.]])"
            ]
          },
          "metadata": {},
          "execution_count": 96
        }
      ]
    },
    {
      "cell_type": "code",
      "metadata": {
        "id": "l4SORyjaeNEC",
        "colab": {
          "base_uri": "https://localhost:8080/"
        },
        "outputId": "e29559f1-2163-444a-da38-26c8559d0c74"
      },
      "source": [
        "print(\"Size of train\",len(x_train))\n",
        "print(\"Size of Test\",len(x_test))"
      ],
      "execution_count": 89,
      "outputs": [
        {
          "output_type": "stream",
          "name": "stdout",
          "text": [
            "Size of train 829\n",
            "Size of Test 207\n"
          ]
        }
      ]
    },
    {
      "cell_type": "markdown",
      "metadata": {
        "id": "gcIHKtU74Viz"
      },
      "source": [
        "# Build Linear Module"
      ]
    },
    {
      "cell_type": "code",
      "metadata": {
        "id": "f5Nyg4y36h5U"
      },
      "source": [
        "\n",
        "# Error class\n",
        "class error(): \n",
        "  def __init__(self, y_true, y_pre):\n",
        "    self.y_true = y_true\n",
        "    self.y_pre = y_pre\n",
        "    self.len = len(y_true)\n",
        "\n",
        "  def mean_abs_err(self):\n",
        "    return np.sum(np.abs(self.y_true - self.y_pre)) / self.len\n",
        "\n",
        "  def max_err(self):\n",
        "    return np.max(self.y_true - self.y_pre)\n",
        "\n",
        "  def r2_score(self):\n",
        "    u = (self.y_true - self.y_pre) ** 2\n",
        "    v = (self.y_true - np.average(self.y_true)) ** 2\n",
        "    return np.average(1 - (u.sum(axis=0) / v.sum(axis=0)))\n",
        "\n",
        "  def explain_cor(self):\n",
        "    y_diff_avg = np.average(self.y_true - self.y_pre, axis=0)\n",
        "    u = np.average((self.y_true - self.y_pre - y_diff_avg) ** 2, axis=0)\n",
        "\n",
        "    y_true_avg = np.average(self.y_true, axis=0)\n",
        "    v = np.average((self.y_true - y_true_avg) ** 2, axis=0)\n",
        "\n",
        "    return np.average(1 - (u.sum(axis=0) / v.sum(axis=0)))\n",
        "from sklearn.metrics import r2_score"
      ],
      "execution_count": 90,
      "outputs": []
    },
    {
      "cell_type": "code",
      "metadata": {
        "id": "VcXXvAevcb13"
      },
      "source": [
        "class Linear_regression():\n",
        "  def __init__(self, iter, lr,landa=0):\n",
        "    self.iter = iter\n",
        "    self.lr = lr\n",
        "    self.landa =landa\n",
        "    self.hist = {\"lossTrain\":[],\"lossTest\":[],\"accuTrain\":[],\"accuTest\":[]}\n",
        "  \n",
        "  def update_weight(self, w):\n",
        "    m = len(self.X)\n",
        "    predictions = np.dot(self.X, w)\n",
        "    error = self.y - predictions\n",
        "    gradient = np.dot(-self.X.T,  error)\n",
        "    gradient /= m\n",
        "    gradient *= self.lr\n",
        "    gradient += ((self.landa * w)/m)\n",
        "    w -= gradient\n",
        "    return w\n",
        "\n",
        "  def cost_function(self,X,y):\n",
        "    N = len(y)\n",
        "    pred = np.dot(X, self.weights)\n",
        "    sq_error = (pred - y)**2\n",
        "    p =self.landa *(np.power(self.weights,2).sum())\n",
        "    return 1.0/(2*N) * sq_error.sum() + (p/2*N) \n",
        "\n",
        "  def fit(self, Xc, yc,testData=None):\n",
        "    self.X = Xc\n",
        "    self.weights = np.zeros((Xc.shape[1], 1))\n",
        "    self.y = yc.reshape(yc.shape[0], 1)\n",
        "    for i in range(self.iter):\n",
        "      loss = self.cost_function(self.X,self.y)\n",
        "      if(i > 0):\n",
        "        if((loss - self.hist[\"lossTrain\"][-1] ) > 1):\n",
        "          break\n",
        "\n",
        "      self.hist[\"lossTrain\"].append(loss)\n",
        "      self.hist[\"accuTrain\"].append(self.score(self.y, np.dot(self.X,self.weights)))\n",
        "      if testData is not None:\n",
        "        x_test,y_test = testData\n",
        "        self.hist[\"lossTest\"].append(self.cost_function(x_test,y_test))\n",
        "        self.hist[\"accuTest\"].append(self.score(y_test, np.dot(x_test,self.weights)))\n",
        "      self.weights = self.update_weight(self.weights)\n",
        "\n",
        "    return self.weights\n",
        "\n",
        "  def lrtrain(self, df):\n",
        "    self.preprocessing_data(df)\n",
        "    return self.fit(self.x_train, self.y_train)\n",
        "\n",
        "  def score(self,y_true,y_pre):\n",
        "    u = (y_true - y_pre) ** 2\n",
        "    v = (y_true - np.average(y_true)) ** 2\n",
        "    r=np.corrcoef(y_pre,y_true, rowvar=False)[0][1]\n",
        "    return np.average(1 - (u.sum(axis=0) / v.sum(axis=0)))\n",
        "    # return r"
      ],
      "execution_count": 151,
      "outputs": []
    },
    {
      "cell_type": "code",
      "metadata": {
        "id": "crws1Xl3PwPb",
        "colab": {
          "base_uri": "https://localhost:8080/"
        },
        "outputId": "e5f15565-d7d2-4288-abbe-35bc1f6f1669"
      },
      "source": [
        "dataUse.drop(columns=['price']).columns"
      ],
      "execution_count": 92,
      "outputs": [
        {
          "output_type": "execute_result",
          "data": {
            "text/plain": [
              "Index(['locateID', 'roadwidth', 'floors', 'bathrooms', 'bedrooms'], dtype='object')"
            ]
          },
          "metadata": {},
          "execution_count": 92
        }
      ]
    },
    {
      "cell_type": "code",
      "metadata": {
        "id": "IYucmtUCdL3d",
        "colab": {
          "base_uri": "https://localhost:8080/"
        },
        "outputId": "c7b6ad4a-a752-4e1c-b4c1-669071dbba66"
      },
      "source": [
        "epoch = 10000\n",
        "model = Linear_regression(epoch, 0.003,0.01)\n",
        "weights = model.fit(x_train,y_train,testData=(x_test,y_test))"
      ],
      "execution_count": 156,
      "outputs": [
        {
          "output_type": "stream",
          "name": "stderr",
          "text": [
            "/usr/local/lib/python3.7/dist-packages/numpy/lib/function_base.py:2559: RuntimeWarning: invalid value encountered in true_divide\n",
            "  c /= stddev[:, None]\n",
            "/usr/local/lib/python3.7/dist-packages/numpy/lib/function_base.py:2560: RuntimeWarning: invalid value encountered in true_divide\n",
            "  c /= stddev[None, :]\n"
          ]
        }
      ]
    },
    {
      "cell_type": "code",
      "metadata": {
        "colab": {
          "base_uri": "https://localhost:8080/"
        },
        "id": "lWHHVAd705Qs",
        "outputId": "5f9252e7-3f1a-4a02-f0dc-c6190a6af8d3"
      },
      "source": [
        "label = xData.columns.to_list()\n",
        "labels = ['weight'] + label\n",
        "labels"
      ],
      "execution_count": 98,
      "outputs": [
        {
          "output_type": "execute_result",
          "data": {
            "text/plain": [
              "['weight', 'locateID', 'roadwidth', 'floors', 'bathrooms', 'bedrooms']"
            ]
          },
          "metadata": {},
          "execution_count": 98
        }
      ]
    },
    {
      "cell_type": "code",
      "metadata": {
        "id": "MvT-D18uhMXc",
        "colab": {
          "base_uri": "https://localhost:8080/",
          "height": 234
        },
        "outputId": "f3d1b5e9-63f6-40ab-cf5d-5c6a0aa03d8c"
      },
      "source": [
        "coeff_df = pd.DataFrame(weights, labels ,columns=['Coefficient'])\n",
        "ranked_suburbs = coeff_df.sort_values(\"Coefficient\", ascending = False)\n",
        "ranked_suburbs"
      ],
      "execution_count": 155,
      "outputs": [
        {
          "output_type": "execute_result",
          "data": {
            "text/html": [
              "<div>\n",
              "<style scoped>\n",
              "    .dataframe tbody tr th:only-of-type {\n",
              "        vertical-align: middle;\n",
              "    }\n",
              "\n",
              "    .dataframe tbody tr th {\n",
              "        vertical-align: top;\n",
              "    }\n",
              "\n",
              "    .dataframe thead th {\n",
              "        text-align: right;\n",
              "    }\n",
              "</style>\n",
              "<table border=\"1\" class=\"dataframe\">\n",
              "  <thead>\n",
              "    <tr style=\"text-align: right;\">\n",
              "      <th></th>\n",
              "      <th>Coefficient</th>\n",
              "    </tr>\n",
              "  </thead>\n",
              "  <tbody>\n",
              "    <tr>\n",
              "      <th>locateID</th>\n",
              "      <td>9.005178</td>\n",
              "    </tr>\n",
              "    <tr>\n",
              "      <th>floors</th>\n",
              "      <td>7.886051</td>\n",
              "    </tr>\n",
              "    <tr>\n",
              "      <th>roadwidth</th>\n",
              "      <td>3.652812</td>\n",
              "    </tr>\n",
              "    <tr>\n",
              "      <th>bathrooms</th>\n",
              "      <td>2.057813</td>\n",
              "    </tr>\n",
              "    <tr>\n",
              "      <th>bedrooms</th>\n",
              "      <td>1.837458</td>\n",
              "    </tr>\n",
              "    <tr>\n",
              "      <th>weight</th>\n",
              "      <td>1.562468</td>\n",
              "    </tr>\n",
              "  </tbody>\n",
              "</table>\n",
              "</div>"
            ],
            "text/plain": [
              "           Coefficient\n",
              "locateID      9.005178\n",
              "floors        7.886051\n",
              "roadwidth     3.652812\n",
              "bathrooms     2.057813\n",
              "bedrooms      1.837458\n",
              "weight        1.562468"
            ]
          },
          "metadata": {},
          "execution_count": 155
        }
      ]
    },
    {
      "cell_type": "code",
      "metadata": {
        "colab": {
          "base_uri": "https://localhost:8080/",
          "height": 315
        },
        "id": "YRV7mp6gdOYl",
        "outputId": "5437d8fb-6c99-43a7-8cf3-b9234d32fe75"
      },
      "source": [
        "predictions = np.dot(x_test,weights)\n",
        "y_test = np.reshape(y_test,(len(y_test),1))\n",
        "print(np.corrcoef(predictions,y_test, rowvar=False))\n",
        "plt.scatter(y_test, predictions)\n"
      ],
      "execution_count": 154,
      "outputs": [
        {
          "output_type": "stream",
          "name": "stdout",
          "text": [
            "[[1.         0.67435542]\n",
            " [0.67435542 1.        ]]\n"
          ]
        },
        {
          "output_type": "execute_result",
          "data": {
            "text/plain": [
              "<matplotlib.collections.PathCollection at 0x7f1f5e02f910>"
            ]
          },
          "metadata": {},
          "execution_count": 154
        },
        {
          "output_type": "display_data",
          "data": {
            "image/png": "[encoded data removed]",
            "text/plain": [
              "<Figure size 432x288 with 1 Axes>"
            ]
          },
          "metadata": {
            "needs_background": "light"
          }
        }
      ]
    },
    {
      "cell_type": "markdown",
      "metadata": {
        "id": "9f0U-Lq_BHWT"
      },
      "source": [
        "# Visualize accuracy"
      ]
    },
    {
      "cell_type": "code",
      "metadata": {
        "colab": {
          "base_uri": "https://localhost:8080/"
        },
        "id": "iWkQpeVu1deE",
        "outputId": "5bec7fff-380b-4407-f467-41b83a7bfa1e"
      },
      "source": [
        "from sklearn.linear_model import LinearRegression as lrs\n",
        "\n",
        "sk_lr = lrs() \n",
        "skmodel = sk_lr.fit(x_train, y_train)\n",
        "skmodel.score(x_test, y_test)"
      ],
      "execution_count": 105,
      "outputs": [
        {
          "output_type": "execute_result",
          "data": {
            "text/plain": [
              "0.47183576832335106"
            ]
          },
          "metadata": {},
          "execution_count": 105
        }
      ]
    },
    {
      "cell_type": "code",
      "metadata": {
        "id": "LGAyb_PP140E"
      },
      "source": [
        "x_test_10_samples =  x_test[:10]\n",
        "y_pre_ourmodel = np.dot(x_test_10_samples, weights)\n",
        "y_pre_skmodel = np.dot(x_test_10_samples.reshape(10,6), skmodel.singular_.reshape(skmodel.singular_.size, 1))\n"
      ],
      "execution_count": 152,
      "outputs": []
    },
    {
      "cell_type": "code",
      "metadata": {
        "colab": {
          "base_uri": "https://localhost:8080/"
        },
        "id": "1WLly2Ts2blt",
        "outputId": "e677384b-274d-4356-bd30-7643ff1c464e"
      },
      "source": [
        "data_compare = np.concatenate((y_test[0:10], y_pre_ourmodel, y_pre_skmodel), axis = 1)\n",
        "data_compare"
      ],
      "execution_count": 157,
      "outputs": [
        {
          "output_type": "execute_result",
          "data": {
            "text/plain": [
              "array([[ 280.        ,  146.16096085, 2188.09111296],\n",
              "       [ 104.2       ,  108.1249728 , 1758.29695793],\n",
              "       [ 112.        ,  154.28947097, 2160.78695864],\n",
              "       [ 139.        ,  133.28261581, 1932.79299058],\n",
              "       [  64.6       ,   93.96734949, 1329.35677639],\n",
              "       [ 139.7       ,  134.64444128, 2349.76799031],\n",
              "       [  92.2       ,  103.31049675, 1391.46358271],\n",
              "       [ 118.        ,  131.28682101, 1650.40420725],\n",
              "       [ 115.79      ,  122.31317617, 1841.49038112],\n",
              "       [ 235.3       ,  183.51196571, 2843.34710712]])"
            ]
          },
          "metadata": {},
          "execution_count": 157
        }
      ]
    },
    {
      "cell_type": "code",
      "metadata": {
        "colab": {
          "base_uri": "https://localhost:8080/",
          "height": 357
        },
        "id": "mV67sZrA2tGU",
        "outputId": "9e0862fc-579a-4225-840d-cba95b21712f"
      },
      "source": [
        "# thêm bảng so sánh với thư viện \n",
        "df_compare = pd.DataFrame(data_compare, columns=['y_true', 'y_pre_ourmodel', 'y_pre_skmodel'])\n",
        "df_compare.head(10)\n",
        "###################################"
      ],
      "execution_count": 114,
      "outputs": [
        {
          "output_type": "execute_result",
          "data": {
            "text/html": [
              "<div>\n",
              "<style scoped>\n",
              "    .dataframe tbody tr th:only-of-type {\n",
              "        vertical-align: middle;\n",
              "    }\n",
              "\n",
              "    .dataframe tbody tr th {\n",
              "        vertical-align: top;\n",
              "    }\n",
              "\n",
              "    .dataframe thead th {\n",
              "        text-align: right;\n",
              "    }\n",
              "</style>\n",
              "<table border=\"1\" class=\"dataframe\">\n",
              "  <thead>\n",
              "    <tr style=\"text-align: right;\">\n",
              "      <th></th>\n",
              "      <th>y_true</th>\n",
              "      <th>y_pre_ourmodel</th>\n",
              "      <th>y_pre_skmodel</th>\n",
              "    </tr>\n",
              "  </thead>\n",
              "  <tbody>\n",
              "    <tr>\n",
              "      <th>0</th>\n",
              "      <td>280.00</td>\n",
              "      <td>149.630910</td>\n",
              "      <td>2188.091113</td>\n",
              "    </tr>\n",
              "    <tr>\n",
              "      <th>1</th>\n",
              "      <td>104.20</td>\n",
              "      <td>102.849250</td>\n",
              "      <td>1758.296958</td>\n",
              "    </tr>\n",
              "    <tr>\n",
              "      <th>2</th>\n",
              "      <td>112.00</td>\n",
              "      <td>161.637661</td>\n",
              "      <td>2160.786959</td>\n",
              "    </tr>\n",
              "    <tr>\n",
              "      <th>3</th>\n",
              "      <td>139.00</td>\n",
              "      <td>133.968506</td>\n",
              "      <td>1932.792991</td>\n",
              "    </tr>\n",
              "    <tr>\n",
              "      <th>4</th>\n",
              "      <td>64.60</td>\n",
              "      <td>98.301475</td>\n",
              "      <td>1329.356776</td>\n",
              "    </tr>\n",
              "    <tr>\n",
              "      <th>5</th>\n",
              "      <td>139.70</td>\n",
              "      <td>127.438826</td>\n",
              "      <td>2349.767990</td>\n",
              "    </tr>\n",
              "    <tr>\n",
              "      <th>6</th>\n",
              "      <td>92.20</td>\n",
              "      <td>119.159454</td>\n",
              "      <td>1391.463583</td>\n",
              "    </tr>\n",
              "    <tr>\n",
              "      <th>7</th>\n",
              "      <td>118.00</td>\n",
              "      <td>145.073987</td>\n",
              "      <td>1650.404207</td>\n",
              "    </tr>\n",
              "    <tr>\n",
              "      <th>8</th>\n",
              "      <td>115.79</td>\n",
              "      <td>126.577543</td>\n",
              "      <td>1841.490381</td>\n",
              "    </tr>\n",
              "    <tr>\n",
              "      <th>9</th>\n",
              "      <td>235.30</td>\n",
              "      <td>186.061631</td>\n",
              "      <td>2843.347107</td>\n",
              "    </tr>\n",
              "  </tbody>\n",
              "</table>\n",
              "</div>"
            ],
            "text/plain": [
              "   y_true  y_pre_ourmodel  y_pre_skmodel\n",
              "0  280.00      149.630910    2188.091113\n",
              "1  104.20      102.849250    1758.296958\n",
              "2  112.00      161.637661    2160.786959\n",
              "3  139.00      133.968506    1932.792991\n",
              "4   64.60       98.301475    1329.356776\n",
              "5  139.70      127.438826    2349.767990\n",
              "6   92.20      119.159454    1391.463583\n",
              "7  118.00      145.073987    1650.404207\n",
              "8  115.79      126.577543    1841.490381\n",
              "9  235.30      186.061631    2843.347107"
            ]
          },
          "metadata": {},
          "execution_count": 114
        }
      ]
    },
    {
      "cell_type": "code",
      "metadata": {
        "id": "2qtDA43FBMk_"
      },
      "source": [
        "hist = model.hist\n",
        "# history of Score\n",
        "scoreTrain = hist['accuTrain']\n",
        "scoreTest = hist['accuTest']\n",
        "\n",
        "# history of Loss\n",
        "lossTrain = hist['lossTrain']\n",
        "lossTest = hist['lossTest']\n",
        "\n",
        "inter = len(lossTrain)\n"
      ],
      "execution_count": 158,
      "outputs": []
    },
    {
      "cell_type": "code",
      "metadata": {
        "colab": {
          "base_uri": "https://localhost:8080/",
          "height": 281
        },
        "id": "JuEX-wlT353c",
        "outputId": "a8bc2086-c7bb-4fac-bf83-bdd9a5665c96"
      },
      "source": [
        "plt.plot(range(inter), lossTrain)\n",
        "plt.title('Mean square error ech iterator')\n",
        "plt.show()"
      ],
      "execution_count": 159,
      "outputs": [
        {
          "output_type": "display_data",
          "data": {
            "image/png": "[encoded data removed]",
            "text/plain": [
              "<Figure size 432x288 with 1 Axes>"
            ]
          },
          "metadata": {
            "needs_background": "light"
          }
        }
      ]
    },
    {
      "cell_type": "code",
      "metadata": {
        "colab": {
          "base_uri": "https://localhost:8080/",
          "height": 578
        },
        "id": "Ct2vFOH1BzLT",
        "outputId": "c84ac0f9-ac0f-4180-eecb-08a641639c38"
      },
      "source": [
        "#score\n",
        "plt.title(\"Score\")\n",
        "plt.plot(range(inter),scoreTrain)\n",
        "plt.plot(range(inter),scoreTest)\n",
        "plt.legend([\"trainning\",\"validation\"])\n",
        "# plt.ylim([0.25,0.5])\n",
        "plt.figure()\n",
        "\n",
        "#Loss\n",
        "plt.title(\"Loss\")\n",
        "plt.plot(range(inter),lossTrain)\n",
        "plt.plot(range(inter),lossTest)\n",
        "# plt.ylim([0,4000])\n",
        "plt.legend([\"trainning\",\"validation\"])\n",
        "plt.figure()"
      ],
      "execution_count": 160,
      "outputs": [
        {
          "output_type": "execute_result",
          "data": {
            "text/plain": [
              "<Figure size 432x288 with 0 Axes>"
            ]
          },
          "metadata": {},
          "execution_count": 160
        },
        {
          "output_type": "display_data",
          "data": {
            "image/png": "[encoded data removed]",
            "text/plain": [
              "<Figure size 432x288 with 1 Axes>"
            ]
          },
          "metadata": {
            "needs_background": "light"
          }
        },
        {
          "output_type": "display_data",
          "data": {
            "image/png": "[encoded data removed]",
            "text/plain": [
              "<Figure size 432x288 with 1 Axes>"
            ]
          },
          "metadata": {
            "needs_background": "light"
          }
        },
        {
          "output_type": "display_data",
          "data": {
            "text/plain": [
              "<Figure size 432x288 with 0 Axes>"
            ]
          },
          "metadata": {}
        }
      ]
    },
    {
      "cell_type": "code",
      "metadata": {
        "id": "44n5jThN3JZO"
      },
      "source": [
        ""
      ],
      "execution_count": 117,
      "outputs": []
    }
  ]
}